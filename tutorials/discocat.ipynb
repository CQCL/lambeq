{
 "cells": [
  {
   "cell_type": "markdown",
   "metadata": {},
   "source": [
    "# DisCoCat in DisCoPy\n",
    "\n",
    "In the previous tutorial, we learnt the basics of monoidal categories and how to represent them in DisCoPy. In this tutorial, we look at the _Distributional Compositional Categorical_ model ([DisCoCat](https://arxiv.org/abs/1003.4394)), which uses functors to map diagrams from the [rigid category](monoidal.ipynb#Rigid-monoidal-categories) of [pregroup grammars](../string_diagrams.rst#Pregroup-grammars) to vector space semantics.\n",
    "\n",
    "## Pregroup grammars\n",
    "\n",
    "[Pregroup grammar](../string_diagrams.rst#Pregroup-grammars) is a grammatical formalism devised by Joachim Lambek in 1999. In pregroups, each word is a morphism with type $I \\to T$ where $I$ is the monoidal unit and $T$ is a rigid type, referred to as the *pregroup type*. Here are some examples for pregroup type assignments:\n",
    "* a noun is given the base type $n$.\n",
    "* an adjective consumes a noun on the noun's left to return another noun, so it is given the type $n\\cdot n^l$.\n",
    "* a transitive verb consumes a noun on its left and another noun on its right to give a sentence, so is given the type $n^r \\cdot s \\cdot n^l$.\n",
    "\n",
    "In the context of pregroups, the adjoints $n^l$ and $n^r$ can be thought of as the left and right inverses of a type $n$ respectively. In a pregroup derivation, the words are concatenated using the monoidal product $\\otimes$ and linked using cups, which are special morphisms that exist in any rigid category. A sentence is grammatically sound if its derivation has a single uncontracted sentence wire.\n",
    "\n",
    "In DisCoPy, words are defined using the [Word](https://discopy.readthedocs.io/en/main/_autosummary/discopy.grammar.pregroup.Word.html) class. [Word](https://discopy.readthedocs.io/en/main/_autosummary/discopy.grammar.pregroup.Word.html)s are just [Box](https://discopy.readthedocs.io/en/main/_autosummary/discopy.rigid.Box.html)es where the input type is fixed to be the monoidal unit $I$ (or `Ty()`). A pregroup derivation diagram can be drawn using either the [diagram.draw()](https://discopy.readthedocs.io/en/main/_autosummary/discopy.monoidal.Diagram.html#discopy.monoidal.Diagram.draw) method or [grammar.draw(diagram)](https://discopy.readthedocs.io/en/main/_autosummary/discopy.grammar.pregroup.draw.html)."
   ]
  },
  {
   "cell_type": "code",
   "execution_count": 1,
   "metadata": {},
   "outputs": [
    {
     "data": {
      "image/png": "[encoded data removed]",
      "text/plain": [
       "<Figure size 432x288 with 1 Axes>"
      ]
     },
     "metadata": {
      "needs_background": "light"
     },
     "output_type": "display_data"
    }
   ],
   "source": [
    "from discopy import grammar\n",
    "from discopy.grammar import Word\n",
    "from discopy.rigid import Cap, Cup, Id, Ty\n",
    "\n",
    "n, s = Ty('n'), Ty('s')\n",
    "\n",
    "words = [\n",
    "    Word('she', n),\n",
    "    Word('goes', n.r @ s @ n.l),\n",
    "    Word('home', n)\n",
    "]\n",
    "\n",
    "cups = Cup(n, n.r) @ Id(s) @ Cup(n.l, n)\n",
    "\n",
    "assert Id().tensor(*words) == words[0] @ words[1] @ words[2]\n",
    "assert Ty().tensor(*[n.r, s, n.l]) == n.r @ s @ n.l\n",
    "\n",
    "diagram = Id().tensor(*words) >> cups\n",
    "grammar.draw(diagram)"
   ]
  },
  {
   "cell_type": "markdown",
   "metadata": {},
   "source": [
    "Note that only diagrams of the form `word @ ... @ word >> cups_and_swaps` can be drawn using [grammar.draw()](https://discopy.readthedocs.io/en/main/_autosummary/discopy.grammar.pregroup.draw.html). Applying functors or normal forms will often cause the diagram to deviate from this form, in which case `diagram.draw()` should be used."
   ]
  },
  {
   "cell_type": "code",
   "execution_count": 2,
   "metadata": {},
   "outputs": [
    {
     "name": "stdout",
     "output_type": "stream",
     "text": [
      "Before normal form: [Word('she', Ty('n')), Word('goes', Ty(Ob('n', z=1), 's', Ob('n', z=-1))), Word('home', Ty('n')), Cup(Ty('n'), Ty(Ob('n', z=1))), Cup(Ty(Ob('n', z=-1)), Ty('n'))]\n",
      "After normal form: [Word('she', Ty('n')), Word('goes', Ty(Ob('n', z=1), 's', Ob('n', z=-1))), Cup(Ty('n'), Ty(Ob('n', z=1))), Word('home', Ty('n')), Cup(Ty(Ob('n', z=-1)), Ty('n'))]\n"
     ]
    },
    {
     "data": {
      "image/png": "[encoded data removed]",
      "text/plain": [
       "<Figure size 720x288 with 1 Axes>"
      ]
     },
     "metadata": {
      "needs_background": "light"
     },
     "output_type": "display_data"
    }
   ],
   "source": [
    "from discopy import drawing\n",
    "from pytest import raises\n",
    "\n",
    "# In the original diagram, words appear before the cups\n",
    "print(\"Before normal form:\", diagram.boxes)\n",
    "\n",
    "diagram_nf = diagram.normal_form()\n",
    "print(\"After normal form:\", diagram_nf.boxes)\n",
    "\n",
    "drawing.equation(diagram, diagram_nf, figsize=(10, 4), symbol='->')\n",
    "\n",
    "# In the normalised diagram, boxes are not in the right order\n",
    "# anymore, so cannot be drawn using grammar.draw()\n",
    "with raises(ValueError):\n",
    "    grammar.draw(diagram_nf)"
   ]
  },
  {
   "cell_type": "markdown",
   "metadata": {
    "tags": []
   },
   "source": [
    "In the example above, the application of normal form to the diagram introduces a cup before the word \"twisted\", so the normalised version cannot be drawn with `grammar.draw()` anymore.\n",
    "\n",
    "## Functors\n",
    "\n",
    "Given monoidal categories $\\mathcal{C}$ and $\\mathcal{D}$, a monoidal functor $F: \\mathcal{C} \\to \\mathcal{D}$ satisfies the following properties:\n",
    "\n",
    "- monoidal structure of objects is preserved: $F(A \\otimes B) = F(A) \\otimes F(B)$\n",
    "- adjoints are preserved: $F(A^l) = F(A)^l$, $F(A^r) = F(A)^r$\n",
    "\n",
    "- monoidal structure of morphism is preserved: $F(g \\otimes f) = F(g) \\otimes F(f)$\n",
    "- compositonal structure of morphisms is preserved: $F(g \\circ f) = F(g) \\circ F(f)$\n",
    "\n",
    "\n",
    "Put simply, a functor is a structure-preserving transformation. In a free monoidal category, applying a functor to a diagram amounts to simply providing a mapping for each generating object and morphism. In DisCoPy, a functor is defined by passing mappings (dictionaries or functions) as arguments `ob` and `ar` to the [Functor](https://discopy.readthedocs.io/en/main/_autosummary/discopy.monoidal.Functor.html) class.\n",
    "\n",
    "Functors are one of the most powerful concepts in category theory. In fact, the encoding, rewriting and parameterisation steps of `lambeq`'s [pipeline](../pipeline.rst) are implemented individually as functors, resulting in an overall functorial transformation from parse trees to tensor networks and circuits. More specifically:\n",
    "\n",
    "- [lambeq.ccg2discocat.CCGParser](https://cqcl.github.io/lambeq/lambeq.ccg2discocat.html#module-lambeq.ccg2discocat.ccg_parser) uses a functor (see [the related paper](https://arxiv.org/abs/2105.07720)) to transform a biclosed CCG diagram to a rigid DisCoCat diagram.\n",
    "- [lambeq.rewrite.Rewriter](https://cqcl.github.io/lambeq/lambeq.html#lambeq.rewrite.Rewriter) functorially transforms a rigid DisCoCat diagram to a simpler rigid DisCoCat diagram.\n",
    "- [lambeq.tensor.TensorAnsatz](https://cqcl.github.io/lambeq/lambeq.html#lambeq.tensor.TensorAnsatz) functorially transforms a rigid DisCoCat diagram to a tensor diagram, which can be evaluated as a tensor network using NumPy, JAX or PyTorch.\n",
    "- [lambeq.circuit.CircuitAnsatz](https://cqcl.github.io/lambeq/lambeq.html#lambeq.circuit.CircuitAnsatz) functorially transforms a rigid DisCoCat diagram to a quantum circuit, for evaluation on a quantum device.\n",
    "\n",
    "Below we present two examples of functors, implemented in DisCoPy.\n",
    "\n",
    "### Example 1: \"Very\" functor\n",
    "\n",
    "This functor adds the word \"very\" in front of every adjective in a DisCoCat diagram. \n",
    "Since the mapping is from a [rigid.Diagram](https://discopy.readthedocs.io/en/main/_autosummary/discopy.rigid.Diagram.html) to another [rigid.Diagram](https://discopy.readthedocs.io/en/main/_autosummary/discopy.rigid.Diagram.html), a [rigid.Functor](https://discopy.readthedocs.io/en/main/_autosummary/discopy.rigid.Functor.html) should be used. Further, the word \"very\" modifies an adjective to return another adjective, so it should have type \n",
    "$(n \\otimes n^l) \\otimes (n \\otimes n^l)^l = n \\otimes n^l \\otimes n^{ll} \\otimes n^l$."
   ]
  },
  {
   "cell_type": "code",
   "execution_count": 3,
   "metadata": {},
   "outputs": [],
   "source": [
    "from lambeq.ccg2discocat import DepCCGParser\n",
    "parser = DepCCGParser()"
   ]
  },
  {
   "cell_type": "code",
   "execution_count": 4,
   "metadata": {},
   "outputs": [
    {
     "data": {
      "image/png": "[encoded data removed]",
      "text/plain": [
       "<Figure size 720x288 with 1 Axes>"
      ]
     },
     "metadata": {
      "needs_background": "light"
     },
     "output_type": "display_data"
    }
   ],
   "source": [
    "from discopy.rigid import Diagram, Functor\n",
    "\n",
    "# determiners have the same type as adjectives\n",
    "# but we shouldn't add 'very' behind them\n",
    "determiners = ['a', 'the', 'my', 'his', 'her', 'their']\n",
    "\n",
    "# type for an adjective\n",
    "adj = n @ n.l\n",
    "very = Word('very', adj @ adj.l)\n",
    "cups = Diagram.cups(adj.l, adj)\n",
    "\n",
    "def very_ob(ty):\n",
    "    return ty\n",
    "\n",
    "def very_ar(box):\n",
    "    if box != very:\n",
    "        if box.name not in determiners:\n",
    "            if box.cod == adj:\n",
    "                return very @ box >> Id(adj) @ cups\n",
    "    return box\n",
    "\n",
    "very_functor = Functor(ob=very_ob, ar=very_ar)\n",
    "\n",
    "diagram = parser.sentence2diagram('a big bad wolf')\n",
    "new_diagram = very_functor(diagram)\n",
    "\n",
    "drawing.equation(diagram, new_diagram, figsize=(10, 4), symbol='->')"
   ]
  },
  {
   "cell_type": "markdown",
   "metadata": {
    "tags": []
   },
   "source": [
    "### Example 2: Twist functor\n",
    "\n",
    "\n",
    "In this functor, cups and caps are treated specially and are not passed to the `ar` function; instead they are passed to methods `ar_factory.cups(left, right)` and `ar_factory.caps(left, right)`, respectively.\n",
    "By default, the [rigid.Functor](https://discopy.readthedocs.io/en/main/_autosummary/discopy.rigid.Functor.html) uses [rigid.Diagram](https://discopy.readthedocs.io/en/main/_autosummary/discopy.rigid.Diagram.html) to implement the [factory pattern](https://en.wikipedia.org/wiki/Factory_method_pattern), with methods such as `cups`, `caps`, `id`, and `swap`. For example, for a functor `F` that uses the default arrow factory [Diagram](https://discopy.readthedocs.io/en/main/_autosummary/discopy.rigid.Diagram.html), `F(Cup(a, a.r)) == Diagram.cups(F(a), F(a.r))`.\n",
    "\n",
    "Here is an example of how to map a cup to a custom diagram, such as a \"twisted\" cup. Note that it is up to the user to ensure the new cups and caps satisfy the snake equations."
   ]
  },
  {
   "cell_type": "code",
   "execution_count": 5,
   "metadata": {},
   "outputs": [
    {
     "data": {
      "image/png": "[encoded data removed]",
      "text/plain": [
       "<Figure size 432x288 with 1 Axes>"
      ]
     },
     "metadata": {
      "needs_background": "light"
     },
     "output_type": "display_data"
    },
    {
     "data": {
      "image/png": "[encoded data removed]",
      "text/plain": [
       "<Figure size 432x288 with 1 Axes>"
      ]
     },
     "metadata": {
      "needs_background": "light"
     },
     "output_type": "display_data"
    },
    {
     "data": {
      "image/png": "[encoded data removed]",
      "text/plain": [
       "<Figure size 288x144 with 1 Axes>"
      ]
     },
     "metadata": {
      "needs_background": "light"
     },
     "output_type": "display_data"
    }
   ],
   "source": [
    "from discopy.rigid import Functor\n",
    "from discopy import Diagram\n",
    "\n",
    "def twist_ob(ty):\n",
    "    return ty\n",
    "\n",
    "def twist_ar(box):\n",
    "    return box\n",
    "\n",
    "class TwistedDiagram(Diagram):\n",
    "    @staticmethod\n",
    "    def cups(left, right):\n",
    "        swaps = Diagram.swap(left, right)\n",
    "        cups = Diagram.cups(right, left)\n",
    "        return swaps >> cups\n",
    "\n",
    "    @staticmethod\n",
    "    def caps(left, right):\n",
    "        return TwistedDiagram.cups(left, right).dagger()\n",
    "\n",
    "\n",
    "twist_functor = Functor(ob=twist_ob, ar=twist_ar, ar_factory=TwistedDiagram)\n",
    "\n",
    "diagram = parser.sentence2diagram('This is twisted')\n",
    "new_diagram = twist_functor(diagram)\n",
    "\n",
    "grammar.draw(diagram)\n",
    "grammar.draw(new_diagram)\n",
    "\n",
    "snake = Id(n) @ Cap(n.r, n) >> Cup(n, n.r) @ Id(n)\n",
    "drawing.equation(twist_functor(snake), Id(n), figsize=(4, 2))"
   ]
  },
  {
   "cell_type": "markdown",
   "metadata": {},
   "source": [
    "<div class=\"alert alert-info\">\n",
    "\n",
    "**Note**\n",
    "    \n",
    "Twisting the nested cups for \"is\" and \"twisted\" together is **not** a functorial operation, so it cannot be implemented using `rigid.Functor`.\n",
    "\n",
    "</div>"
   ]
  },
  {
   "cell_type": "markdown",
   "metadata": {},
   "source": [
    "## \"Classical\" DisCoCat: Tensor networks\n",
    "\n",
    "The classical version of DisCoCat sends diagrams in the category of pregroup derivations to tensors in the category of vector spaces **FVect**. **FVect** is a monoidal category with vector spaces (e.g. $\\mathbb{R}^2 \\otimes \\mathbb{R}^2$) as objects and linear maps between vector spaces as morphisms. It is in fact a _compact-closed category_, which is a special case of rigid categories where $A^l = A^r = A^*$.\n",
    "\n",
    "Using the [discopy.tensor](https://discopy.readthedocs.io/en/main/discopy/tensor.html) module, you can define a free category of vector spaces: objects are defined with the [Dim](https://discopy.readthedocs.io/en/main/_autosummary/discopy.tensor.Dim.html) class and morphisms with the [Box](https://discopy.readthedocs.io/en/main/_autosummary/discopy.tensor.Box.html) class. Composite morphisms are constructed by freely combining the generating morphisms using the `<<` and `>>` operators. This is similar to how [rigid.Diagram](https://discopy.readthedocs.io/en/main/_autosummary/discopy.rigid.Diagram.html)s and [monoidal.Diagram](https://discopy.readthedocs.io/en/main/_autosummary/discopy.monoidal.Diagram.html)s are defined. The concrete value of the tensor is passed to the `data` attribute as an unshaped list; DisCoPy will reshape it later based on the input and output dimensions.\n",
    "\n",
    "Apart of diagrams, the [discopy.tensor](https://discopy.readthedocs.io/en/main/discopy/tensor.html) module has another class that can be tensored and composed: [tensor.Tensor](https://discopy.readthedocs.io/en/main/_autosummary/discopy.tensor.Tensor.html). The key difference is that [tensor.Box](https://discopy.readthedocs.io/en/main/_autosummary/discopy.tensor.Box.html)es in the diagrams compose together to make [tensor.Diagram](https://discopy.readthedocs.io/en/main/_autosummary/discopy.tensor.Diagram.html)s, while [tensor.Tensor](https://discopy.readthedocs.io/en/main/_autosummary/discopy.tensor.Tensor.html)s compose together to make another [tensor.Tensor](https://discopy.readthedocs.io/en/main/_autosummary/discopy.tensor.Tensor.html). In other words, [tensor.Tensor](https://discopy.readthedocs.io/en/main/_autosummary/discopy.tensor.Tensor.html) computes tensor contractions directly, while [tensor.Diagram](https://discopy.readthedocs.io/en/main/_autosummary/discopy.tensor.Diagram.html) delays the computation until [.eval()](https://discopy.readthedocs.io/en/main/_autosummary/discopy.tensor.Diagram.html#discopy.tensor.Diagram.eval) is called."
   ]
  },
  {
   "cell_type": "code",
   "execution_count": 6,
   "metadata": {},
   "outputs": [
    {
     "name": "stdout",
     "output_type": "stream",
     "text": [
      "Dim(1) @ Dim(2) @ Dim(3)=Dim(2, 3)\n"
     ]
    },
    {
     "data": {
      "image/png": "[encoded data removed]",
      "text/plain": [
       "<Figure size 288x72 with 1 Axes>"
      ]
     },
     "metadata": {
      "needs_background": "light"
     },
     "output_type": "display_data"
    },
    {
     "name": "stdout",
     "output_type": "stream",
     "text": [
      "[[1 0]\n",
      " [0 1]]\n"
     ]
    }
   ],
   "source": [
    "from discopy.tensor import Box, Tensor, Id, Dim\n",
    "\n",
    "# Dim(1) is the unit object, so disappears when tensored with another Dim\n",
    "print(f'{Dim(1) @ Dim(2) @ Dim(3)=}')\n",
    "\n",
    "id_box = Box('Id Box', Dim(2), Dim(2), data=[1,0,0,1])\n",
    "id_tensor = Tensor(Dim(2), Dim(2), array=[1,0,0,1])\n",
    "\n",
    "# the actual values of id_box and id_tensor are equal\n",
    "assert (id_box.array == id_tensor.array).all()\n",
    "drawing.equation(id_box, id_tensor, figsize=(4, 1))\n",
    "print(id_box.array)"
   ]
  },
  {
   "cell_type": "code",
   "execution_count": 7,
   "metadata": {},
   "outputs": [
    {
     "data": {
      "image/png": "[encoded data removed]",
      "text/plain": [
       "<Figure size 432x144 with 1 Axes>"
      ]
     },
     "metadata": {
      "needs_background": "light"
     },
     "output_type": "display_data"
    },
    {
     "name": "stdout",
     "output_type": "stream",
     "text": [
      "Tensor(dom=Dim(2, 2), cod=Dim(2), array=[0., 1., 2., 3., 4., 5., 6., 7.])\n",
      "[[[0. 1.]\n",
      "  [2. 3.]]\n",
      "\n",
      " [[4. 5.]\n",
      "  [6. 7.]]]\n"
     ]
    }
   ],
   "source": [
    "f_box = Box('f Box', Dim(2, 2), Dim(2), data=range(8))\n",
    "f_tensor = Tensor(Dim(2, 2), Dim(2), array=range(8))\n",
    "\n",
    "combined_diagram = id_box @ Id(Dim(2)) >> f_box\n",
    "combined_tensor = id_tensor @ Tensor.id(Dim(2)) >> f_tensor\n",
    "\n",
    "# tensor diagram evaluates to the tensor\n",
    "assert combined_diagram.eval() == combined_tensor\n",
    "drawing.equation(combined_diagram, combined_tensor, figsize=(6, 2))\n",
    "print(combined_tensor)\n",
    "print(combined_tensor.array)"
   ]
  },
  {
   "cell_type": "markdown",
   "metadata": {},
   "source": [
    "In the category of vector spaces, cups, caps and swaps take on concrete values as tensors."
   ]
  },
  {
   "cell_type": "code",
   "execution_count": 8,
   "metadata": {},
   "outputs": [
    {
     "data": {
      "text/plain": [
       "array([[1., 0., 0.],\n",
       "       [0., 1., 0.],\n",
       "       [0., 0., 1.]])"
      ]
     },
     "execution_count": 8,
     "metadata": {},
     "output_type": "execute_result"
    }
   ],
   "source": [
    "Tensor.cups(Dim(3), Dim(3)).array"
   ]
  },
  {
   "cell_type": "code",
   "execution_count": 9,
   "metadata": {},
   "outputs": [
    {
     "data": {
      "text/plain": [
       "array([[[[1., 0.],\n",
       "         [0., 0.]],\n",
       "\n",
       "        [[0., 0.],\n",
       "         [1., 0.]]],\n",
       "\n",
       "\n",
       "       [[[0., 1.],\n",
       "         [0., 0.]],\n",
       "\n",
       "        [[0., 0.],\n",
       "         [0., 1.]]]])"
      ]
     },
     "execution_count": 9,
     "metadata": {},
     "output_type": "execute_result"
    }
   ],
   "source": [
    "Tensor.swap(Dim(2), Dim(2)).array"
   ]
  },
  {
   "cell_type": "markdown",
   "metadata": {},
   "source": [
    "To implement a functor from [rigid.Diagram](https://discopy.readthedocs.io/en/main/_autosummary/discopy.rigid.Diagram.html) to [tensor.Tensor](https://discopy.readthedocs.io/en/main/_autosummary/discopy.tensor.Tensor.html), use a [tensor.Functor](https://discopy.readthedocs.io/en/main/_autosummary/discopy.tensor.Functor.html). This functor will automatically contract the resulting tensor network. "
   ]
  },
  {
   "cell_type": "code",
   "execution_count": 10,
   "metadata": {},
   "outputs": [
    {
     "name": "stdout",
     "output_type": "stream",
     "text": [
      "\"This\" becomes\n",
      "[1. 1.]\n",
      "\"is\" becomes\n",
      "[[[[1. 1.]\n",
      "   [1. 1.]]\n",
      "\n",
      "  [[1. 1.]\n",
      "   [1. 1.]]]\n",
      "\n",
      "\n",
      " [[[1. 1.]\n",
      "   [1. 1.]]\n",
      "\n",
      "  [[1. 1.]\n",
      "   [1. 1.]]]]\n",
      "\"twisted\" becomes\n",
      "[[1. 1.]\n",
      " [1. 1.]]\n"
     ]
    },
    {
     "data": {
      "text/plain": [
       "Tensor(dom=Dim(1), cod=Dim(2), array=[8., 8.])"
      ]
     },
     "execution_count": 10,
     "metadata": {},
     "output_type": "execute_result"
    }
   ],
   "source": [
    "from discopy.tensor import Functor\n",
    "import numpy as np\n",
    "\n",
    "def one_ob(ty):\n",
    "    dims = [2] * len(ty)\n",
    "    return Dim(*dims) # does Dim(2,2,..)\n",
    "\n",
    "def one_ar(box):\n",
    "    dom = one_ob(box.dom)\n",
    "    cod = one_ob(box.cod)\n",
    "    tensor = np.ones(dom @ cod)\n",
    "    print(f'\"{box}\" becomes')\n",
    "    print(tensor)\n",
    "    return tensor\n",
    "\n",
    "one_functor = Functor(ob=one_ob, ar=one_ar)\n",
    "one_functor(diagram)"
   ]
  },
  {
   "cell_type": "markdown",
   "metadata": {},
   "source": [
    "Sometimes, defining a functor from [rigid.Diagram](https://discopy.readthedocs.io/en/main/_autosummary/discopy.rigid.Diagram.html) to [tensor.Diagram](https://discopy.readthedocs.io/en/main/_autosummary/discopy.tensor.Diagram.html) offers more flexibility, since a [tensor.Diagram](https://discopy.readthedocs.io/en/main/_autosummary/discopy.tensor.Diagram.html) can be instantiated with concrete values to be evaluated later using a custom tensor contractor. Such a functor can be defined using a [rigid.Functor](https://discopy.readthedocs.io/en/main/_autosummary/discopy.rigid.Functor.html) with [tensor.Dim](https://discopy.readthedocs.io/en/main/_autosummary/discopy.tensor.Dim.html) and [tensor.Diagram](https://discopy.readthedocs.io/en/main/_autosummary/discopy.tensor.Tensor.html) as `ob_factory` and `ar_factory`, respectively. See the implementation of [TensorAnsatz](https://cqcl.github.io/lambeq/_modules/lambeq/tensor.html#TensorAnsatz) for an example."
   ]
  },
  {
   "cell_type": "markdown",
   "metadata": {},
   "source": [
    "## Quantum DisCoCat: Quantum circuits\n",
    "\n",
    "The quantum version of DisCoCat sends diagrams in the category of pregroup derivations to circuits in the category of Hilbert spaces **FHilb**. This is a compact-closed monoidal category with Hilbert spaces (e.g. $\\mathbb{C}^{2^n}$) as objects and unitary maps between Hilbert spaces as morphisms.\n",
    "\n",
    "The [discopy.quantum](https://discopy.readthedocs.io/en/main/discopy/quantum.html) module is a framework for the free category of quantum circuits: objects are generated using the [Ob](https://discopy.readthedocs.io/en/main/_autosummary/discopy.quantum.circuit.Ob.html) class and morphisms by using [quantum.gates](https://discopy.readthedocs.io/en/main/discopy/quantum.gates.html). In DiCoPy, rotation values range from $0$ to $1$ rather than from $0$ to $2\\pi$. The circuit can then either be evaluated using tensor contraction with the  [.eval()](https://discopy.readthedocs.io/en/main/_autosummary/discopy.quantum.circuit.Circuit.html#discopy.quantum.circuit.Circuit.eval) method, or exported to `pytket` using the [.to_tk()](https://discopy.readthedocs.io/en/main/_autosummary/discopy.quantum.circuit.Circuit.html#discopy.quantum.circuit.Circuit.to_tk) method, which supports multiple hardware backends.\n"
   ]
  },
  {
   "cell_type": "code",
   "execution_count": 11,
   "metadata": {},
   "outputs": [
    {
     "data": {
      "image/png": "[encoded data removed]",
      "text/plain": [
       "<Figure size 432x288 with 1 Axes>"
      ]
     },
     "metadata": {
      "needs_background": "light"
     },
     "output_type": "display_data"
    },
    {
     "data": {
      "text/plain": [
       "tk.Circuit(4).CX(1, 2).X(3).CX(0, 1).CX(2, 3).Rz(0.2, 0).Rz(0.4, 1).Rz(0.6, 2).Rz(0.8, 3)"
      ]
     },
     "execution_count": 11,
     "metadata": {},
     "output_type": "execute_result"
    }
   ],
   "source": [
    "from discopy.quantum import qubit, Id\n",
    "from discopy.quantum.gates import CX, Rz, X\n",
    "\n",
    "circuit = Id(qubit ** 4)\n",
    "circuit >>= Id(qubit) @ CX @ X\n",
    "circuit >>= CX @ CX\n",
    "circuit >>= Rz(0.1) @ Rz(0.2) @ Rz(0.3) @ Rz(0.4)\n",
    "\n",
    "circuit.draw()\n",
    "circuit.to_tk()"
   ]
  },
  {
   "cell_type": "markdown",
   "metadata": {},
   "source": [
    "To apply multi-qubit gates to non-consecutive qubits, use swaps to permute the wires, apply the gate, then unpermute the wires. These swaps are only logical swaps and do not result in more gates when converted to `tket` format."
   ]
  },
  {
   "cell_type": "code",
   "execution_count": 12,
   "metadata": {},
   "outputs": [
    {
     "data": {
      "image/png": "[encoded data removed]",
      "text/plain": [
       "<Figure size 216x216 with 1 Axes>"
      ]
     },
     "metadata": {
      "needs_background": "light"
     },
     "output_type": "display_data"
    },
    {
     "data": {
      "text/plain": [
       "tk.Circuit(3).CX(2, 0)"
      ]
     },
     "execution_count": 12,
     "metadata": {},
     "output_type": "execute_result"
    }
   ],
   "source": [
    "from discopy import Circuit\n",
    "from discopy.quantum.gates import Swap\n",
    "\n",
    "# to apply a CNOT on qubits 2 and 0:\n",
    "circuit1 = Id(qubit ** 3)\n",
    "circuit1 >>= Swap(qubit, qubit) @ Id(qubit)\n",
    "circuit1 >>= Id(qubit) @ Swap(qubit, qubit)\n",
    "circuit1 >>= Id(qubit) @ CX\n",
    "circuit1 >>= Id(qubit) @ Swap(qubit, qubit)\n",
    "circuit1 >>= Swap(qubit, qubit) @ Id(qubit)\n",
    "\n",
    "# or you can do\n",
    "perm = Circuit.permutation([2, 0, 1])\n",
    "circuit2 = perm >> Id(qubit) @ CX >> perm[::-1]\n",
    "\n",
    "assert circuit1 == circuit2\n",
    "circuit1.draw(figsize=(3, 3))\n",
    "\n",
    "# no swaps introduced when converting to tket\n",
    "circuit1.to_tk()"
   ]
  },
  {
   "cell_type": "markdown",
   "metadata": {},
   "source": [
    "So far, our circuits have been \"pure\" circuits, consisting of unitaries. Pure circuits can be evaluated locally to return a [Tensor](https://discopy.readthedocs.io/en/main/_autosummary/discopy.tensor.Tensor.html). Circuits containing [Discard](https://discopy.readthedocs.io/en/main/_autosummary/discopy.quantum.circuit.Discard.html)s and [Measure](https://discopy.readthedocs.io/en/main/_autosummary/discopy.quantum.circuit.Measure.html)s are considered \"mixed\", and return [CQMap](https://discopy.readthedocs.io/en/main/discopy/quantum.cqmap.html)s instead of [Tensor](https://discopy.readthedocs.io/en/main/_autosummary/discopy.tensor.Tensor.html)s when evaluated, as they are not unitaries but rather classical-quantum maps. (For more details, see Chapter 5 of these [notes](http://www.cs.ox.ac.uk/people/jamie.vicary/IntroductionToCategoricalQuantumMechanics.pdf).)"
   ]
  },
  {
   "cell_type": "code",
   "execution_count": 13,
   "metadata": {},
   "outputs": [
    {
     "name": "stdout",
     "output_type": "stream",
     "text": [
      "C(Dim(2, 2)) @ Q(Dim(2, 3))\n",
      "CQMap(dom=Q(Dim(2)), cod=CQ(), array=[1., 0., 0., 1.])\n",
      "CQMap(dom=Q(Dim(2)), cod=C(Dim(2)), array=[1, 0, 0, 0, 0, 0, 0, 1])\n",
      "Tensor(dom=Dim(1), cod=Dim(2), array=[1., 0.])\n",
      "CQMap(dom=CQ(), cod=C(Dim(2)), array=[1., 0.])\n"
     ]
    }
   ],
   "source": [
    "from discopy import Discard, Measure, Ket\n",
    "from discopy import C, Q\n",
    "\n",
    "print(C(Dim(2)) @ Q(Dim(2, 3)) @ C(Dim(2)))\n",
    "\n",
    "print(Discard().eval())\n",
    "print(Measure().eval())\n",
    "print(Ket(0).eval())\n",
    "# circuits that have measurements in them are no longer unitary\n",
    "# and return CQMaps\n",
    "print((Ket(0) >> Measure()).eval())"
   ]
  },
  {
   "cell_type": "markdown",
   "metadata": {},
   "source": [
    "Pure circuits can be coerced to evaluate into a CQMap by setting `mixed=True`."
   ]
  },
  {
   "cell_type": "code",
   "execution_count": 14,
   "metadata": {},
   "outputs": [
    {
     "data": {
      "text/plain": [
       "CQMap(dom=Q(Dim(2, 2)), cod=Q(Dim(2, 2)), array=[1.+0.j, 0.+0.j, 0.+0.j, ..., 0.+0.j, 0.+0.j, 0.+0.j])"
      ]
     },
     "execution_count": 14,
     "metadata": {},
     "output_type": "execute_result"
    }
   ],
   "source": [
    "CX.eval(mixed=True)"
   ]
  },
  {
   "cell_type": "markdown",
   "metadata": {},
   "source": [
    "Note that the tensor order of CQMaps is doubled, compared to that of simple Tensors:"
   ]
  },
  {
   "cell_type": "code",
   "execution_count": 15,
   "metadata": {},
   "outputs": [
    {
     "name": "stdout",
     "output_type": "stream",
     "text": [
      "(2, 2, 2, 2)\n",
      "(2, 2, 2, 2, 2, 2, 2, 2)\n"
     ]
    }
   ],
   "source": [
    "print(CX.eval().array.shape)\n",
    "print(CX.eval(mixed=True).array.shape)"
   ]
  },
  {
   "cell_type": "markdown",
   "metadata": {},
   "source": [
    "To implement a functor from [rigid.Diagram](https://discopy.readthedocs.io/en/main/_autosummary/discopy.rigid.Diagram.html) to [quantum.Circuit](https://discopy.readthedocs.io/en/main/_autosummary/discopy.quantum.Circuit.html), use a [quantum.circuit.Functor](https://discopy.readthedocs.io/en/main/_autosummary/discopy.quantum.circuit.Functor.html)."
   ]
  },
  {
   "cell_type": "code",
   "execution_count": 16,
   "metadata": {},
   "outputs": [
    {
     "data": {
      "image/png": "[encoded data removed]",
      "text/plain": [
       "<Figure size 432x288 with 1 Axes>"
      ]
     },
     "metadata": {
      "needs_background": "light"
     },
     "output_type": "display_data"
    },
    {
     "data": {
      "image/png": "[encoded data removed]",
      "text/plain": [
       "<Figure size 576x576 with 1 Axes>"
      ]
     },
     "metadata": {
      "needs_background": "light"
     },
     "output_type": "display_data"
    }
   ],
   "source": [
    "from discopy.quantum.circuit import Functor, Id\n",
    "\n",
    "def cnot_ob(ty):\n",
    "    # this implicitly maps all rigid types to 1 qubit\n",
    "    return qubit ** len(ty)\n",
    "\n",
    "def cnot_ar(box):\n",
    "    dom = len(box.dom)\n",
    "    cod = len(box.cod)\n",
    "    width = max(dom, cod)\n",
    "    circuit = Id(width)\n",
    "    for i in range(width - 1):\n",
    "        circuit >>= Id(i) @ CX @ Id(width - i - 2)\n",
    "\n",
    "    # Add Bras (postselection) and Kets (states)\n",
    "    # to get a circuit with the right amount of\n",
    "    # input and output wires\n",
    "    if cod <= dom:\n",
    "        circuit >>= Id(cod) @ Bra(*[0]*(dom - cod))\n",
    "    else:\n",
    "        circuit <<= Id(dom) @ Ket(*[0]*(cod - dom))\n",
    "    return circuit\n",
    "\n",
    "cnot_functor = Functor(ob=cnot_ob, ar=cnot_ar)\n",
    "diagram.draw()\n",
    "cnot_functor(diagram).draw(figsize=(8, 8))"
   ]
  }
 ],
 "metadata": {
  "language_info": {
   "name": "python"
  }
 },
 "nbformat": 4,
 "nbformat_minor": 4
}
