{
 "cells": [
  {
   "cell_type": "markdown",
   "metadata": {},
   "source": [
    "# Monoidal categories in lambeq"
   ]
  },
  {
   "cell_type": "raw",
   "metadata": {
    "raw_mimetype": "text/restructuredtext"
   },
   "source": [
    "In order to use the advanced features of ``lambeq`` and extend it, an understanding of :term:`monoidal categories <monoidal category>` and how it is implemented in the :py:mod:`lambeq.backend` is required.\n",
    "\n",
    ":download:`Download code <../_code/monoidal.ipynb>`"
   ]
  },
  {
   "cell_type": "markdown",
   "metadata": {},
   "source": [
    "## Categories\n",
    "\n",
    "A *category* consists of a collection of *objects* $A, B, C, \\ldots$ and a collection of *morphisms* between objects of the form $f: A \\to B, g: B \\to C, h: C \\to D, \\ldots$, such that:\n",
    "\n",
    "* Morphisms with matching types compose. For example, $f: A \\to B$ and $g: B \\to C$ can compose to make $g \\circ f: A \\to C$, but not $f \\circ g$.\n",
    "* Morphisms compose in an associative way: $(h \\circ g) \\circ f = h \\circ (g \\circ f)$\n",
    "* Each object has an identity arrow: $1_B \\circ f = f = f \\circ 1_A$\n",
    "\n",
    "These definitions are implicitly encoded in this *commutative diagram*: any directed path between two specific objects represents equal morphisms.\n",
    "<center>\n",
    "    <img src=\"attachment:diagram.png\" alt=\"drawing\" width=\"130\"/>\n",
    "</center>"
   ]
  },
  {
   "cell_type": "raw",
   "metadata": {
    "raw_mimetype": "text/restructuredtext"
   },
   "source": [
    "For *free* :term:`categories <category>`: we first define generating objects with the :py:class:`~lambeq.backend.grammar.Ty` class and generating morphisms with the :py:class:`~lambeq.backend.grammar.Box` class, then build composite morphisms by freely combining the generating morphisms using backward composition ``>>`` (then)."
   ]
  },
  {
   "cell_type": "code",
   "execution_count": 1,
   "metadata": {},
   "outputs": [],
   "source": [
    "from lambeq.backend.grammar import Box, Id, Ty\n",
    "\n",
    "A, B, C, D = map(Ty, 'ABCD')\n",
    "\n",
    "f = Box('f', A, B)\n",
    "g = Box('g', B, C)\n",
    "h = Box('h', C, D)\n",
    "\n",
    "# the codomain of f and domain of g match, so f and g compose\n",
    "f >> g\n",
    "assert f.cod == g.dom == B\n",
    "\n",
    "# associativity\n",
    "assert f >> (g >> h) == f >> g >> h == (f >> g) >> h\n",
    "\n",
    "# identity\n",
    "assert Id(A) >> f == f.to_diagram() == f >> Id(B)"
   ]
  },
  {
   "cell_type": "raw",
   "metadata": {
    "raw_mimetype": "text/restructuredtext"
   },
   "source": [
    "As mentioned above, in ``lambeq`` the generating morphisms are defined using the :py:class:`~lambeq.backend.grammar.Box` class. When morphisms are composed, they combine to become an :py:class:`~lambeq.backend.grammar.Diagram`. This explains the need for the :py:meth:`.grammar.Box.to_diagram() <~lambeq.backend.grammar.Box.to_diagram>` call above as `f` was declared as a :py:class:`.grammar.Box` instance and cannot be directly tested for equality with a :py:class:`.grammar.Diagram` instance. Compared to traditional category theory notation, ``lambeq`` prefers to use backwards composition ``>>``, where ``f >> g`` should be read as \"``f`` followed by ``g``\"."
   ]
  },
  {
   "cell_type": "code",
   "execution_count": 2,
   "metadata": {},
   "outputs": [],
   "source": [
    "# only arrows that 'type-check' can be composed\n",
    "diagram = f >> g >> h"
   ]
  },
  {
   "cell_type": "raw",
   "metadata": {
    "raw_mimetype": "text/restructuredtext"
   },
   "source": [
    "An :py:class:`~lambeq.backend.grammar.Diagram` behaves like a ``List[Diagram]``: it can be indexed, sliced, or even reversed. Reversing a morphism actually performs the *dagger* operation, which is the abstract notion of a dagger in quantum mechanics and linear algebra."
   ]
  },
  {
   "cell_type": "code",
   "execution_count": 3,
   "metadata": {},
   "outputs": [
    {
     "name": "stdout",
     "output_type": "stream",
     "text": [
      "|Ty() @ [f; Ty(A) -> Ty(B)] @ Ty()| >> |Ty() @ [g; Ty(B) -> Ty(C)] @ Ty()| >> |Ty() @ [h; Ty(C) -> Ty(D)] @ Ty()|\n",
      "Indexing: |Ty() @ [f; Ty(A) -> Ty(B)] @ Ty()|\n",
      "Slicing: |Ty() @ [g; Ty(B) -> Ty(C)] @ Ty()| >> |Ty() @ [h; Ty(C) -> Ty(D)] @ Ty()|\n",
      "Reversing (dagger): |Ty() @ [h†; Ty(D) -> Ty(C)] @ Ty()| >> |Ty() @ [g†; Ty(C) -> Ty(B)] @ Ty()| >> |Ty() @ [f†; Ty(B) -> Ty(A)] @ Ty()|\n"
     ]
    }
   ],
   "source": [
    "print(diagram)\n",
    "print(f'Indexing:', diagram[0])\n",
    "print(f'Slicing:', diagram[1:])\n",
    "print(f'Reversing (dagger):', diagram[::-1])"
   ]
  },
  {
   "cell_type": "markdown",
   "metadata": {},
   "source": [
    "## Monoidal categories\n",
    "\n",
    "A *monoidal category* is a category equipped with the *monoidal product* $\\otimes$ and *monoidal unit* $I$ and has the following properties:\n",
    "\n",
    "* objects can be combined to return another object (e.g $A \\otimes B$)\n",
    "* morphisms can be combined to return another morphism ($(f: A \\to B) \\otimes (g: C \\to D) = f \\otimes g: A \\otimes C \\to B \\otimes D$).\n",
    "* $\\otimes$ is associative on objects: $(A \\otimes B) \\otimes C = A \\otimes (B \\otimes C)$\n",
    "* $\\otimes$ is associative on morphisms: $(f \\otimes g) \\otimes h = f \\otimes (g \\otimes h)$\n",
    "* $I$ is the identity on objects for $\\otimes$: $A \\otimes I= A = I \\otimes A$\n",
    "* $1_I$ is the identity on arrows for $\\otimes$: $f \\otimes 1_I = f = 1_I \\otimes f$"
   ]
  },
  {
   "cell_type": "raw",
   "metadata": {
    "raw_mimetype": "text/restructuredtext"
   },
   "source": [
    "For :term:`monoidal categories <monoidal category>`: again, the generating objects are defined with the :py:class:`~lambeq.backend.grammar.Ty` class, and the generating morphisms with the :py:class:`~lambeq.backend.grammar.Box` class; the composite objects are built using ``@`` and the composite morphisms using ``>>``."
   ]
  },
  {
   "cell_type": "code",
   "execution_count": 4,
   "metadata": {},
   "outputs": [],
   "source": [
    "from lambeq.backend.grammar import Box, Id, Ty\n",
    "\n",
    "A, B, C = Ty('A'), Ty('B'), Ty('C')\n",
    "\n",
    "f = Box('f', A, B)\n",
    "g = Box('g', B, C)\n",
    "h = Box('h', B, A)\n",
    "\n",
    "# combining types\n",
    "A @ B\n",
    "# combining boxes\n",
    "f @ g\n",
    "\n",
    "# associativity\n",
    "assert (A @ B) @ C == A @ B @ C == A @ (B @ C)\n",
    "assert (f @ g) @ h == f @ g @ h == f @ (g @ h) \n",
    "\n",
    "# monoidal unit\n",
    "assert A @ Ty() == A == Ty() @ A\n",
    "assert f @ Id(Ty()) == f.to_diagram() == Id(Ty()) @ f"
   ]
  },
  {
   "cell_type": "raw",
   "metadata": {
    "raw_mimetype": "text/restructuredtext"
   },
   "source": [
    ":term:`Monoidal categories <monoidal category>` have an elegant graphical calculus, which allow them to be drawn and manipulated graphically. "
   ]
  },
  {
   "cell_type": "code",
   "execution_count": 5,
   "metadata": {},
   "outputs": [
    {
     "name": "stdout",
     "output_type": "stream",
     "text": [
      "|Ty() @ [x; Ty(A) -> Ty(A)] @ Ty(A)| >> |Ty() @ [y; Ty(A) @ Ty(A) -> Ty(B)] @ Ty()|\n"
     ]
    },
    {
     "data": {
      "image/png": "[encoded data removed]",
      "text/plain": [
       "<Figure size 500x300 with 1 Axes>"
      ]
     },
     "metadata": {},
     "output_type": "display_data"
    }
   ],
   "source": [
    "x = Box('x', A, A)\n",
    "y = Box('y', A @ A, B)\n",
    "\n",
    "diagram = x @ Id(A) >> y\n",
    "print(repr(diagram))\n",
    "diagram.draw(figsize=(5, 3))"
   ]
  },
  {
   "cell_type": "raw",
   "metadata": {
    "raw_mimetype": "text/restructuredtext"
   },
   "source": [
    "A :py:class:`~lambeq.backend.grammar.Ty` can be indexed, sliced, or even reversed, just like a ``List[Ty]``."
   ]
  },
  {
   "cell_type": "code",
   "execution_count": 6,
   "metadata": {},
   "outputs": [
    {
     "name": "stdout",
     "output_type": "stream",
     "text": [
      "A @ B @ C\n",
      "Ty(A) @ Ty(B) @ Ty(C)\n",
      "Indexing: A\n",
      "Slicing: B @ C\n",
      "Reversing: C @ B @ A\n"
     ]
    }
   ],
   "source": [
    "t = A @ B @ C\n",
    "\n",
    "print(t)\n",
    "print(repr(t))\n",
    "\n",
    "print('Indexing:', t[0])\n",
    "print(f'Slicing:', t[1:])\n",
    "print(f'Reversing:', t[::-1])"
   ]
  },
  {
   "cell_type": "raw",
   "metadata": {
    "raw_mimetype": "text/restructuredtext"
   },
   "source": [
    "Again, a :py:class:`grammar.Diagram <lambeq.backend.grammar.Diagram>` behaves like a ``List[Diagram]``, so it can be indexed, sliced, and reversed. Reversing a diagram performs the dagger operation."
   ]
  },
  {
   "cell_type": "code",
   "execution_count": 7,
   "metadata": {},
   "outputs": [
    {
     "name": "stdout",
     "output_type": "stream",
     "text": [
      "|Ty() @ [x; Ty(A) -> Ty(A)] @ Ty(A)| >> |Ty() @ [y; Ty(A) @ Ty(A) -> Ty(B)] @ Ty()|\n",
      "Indexing: |Ty() @ [x; Ty(A) -> Ty(A)] @ Ty(A)|\n",
      "Slicing: |Ty() @ [y; Ty(A) @ Ty(A) -> Ty(B)] @ Ty()|\n",
      "Reversing (dagger): |Ty() @ [y†; Ty(B) -> Ty(A) @ Ty(A)] @ Ty()| >> |Ty() @ [x†; Ty(A) -> Ty(A)] @ Ty(A)|\n",
      "\n",
      "Dagger operation:\n"
     ]
    },
    {
     "data": {
      "image/png": "[encoded data removed]",
      "text/plain": [
       "<Figure size 800x300 with 1 Axes>"
      ]
     },
     "metadata": {},
     "output_type": "display_data"
    }
   ],
   "source": [
    "print(diagram)\n",
    "print(f'Indexing:', diagram[0])\n",
    "print(f'Slicing:', diagram[1:])\n",
    "print(f'Reversing (dagger):', diagram[::-1])\n",
    "\n",
    "from lambeq.backend.drawing import draw_equation\n",
    "\n",
    "print('\\nDagger operation:')\n",
    "# boxes are drawn as trapeziums to demonstrate the reflection along the horizontal axis\n",
    "draw_equation(diagram, diagram[::-1], symbol='->', figsize=(8, 3), asymmetry=0.2)"
   ]
  },
  {
   "cell_type": "raw",
   "metadata": {
    "raw_mimetype": "text/restructuredtext"
   },
   "source": [
    "A :term:`monoidal category` equipped with a :py:class:`~lambeq.backend.grammar.Swap` is known as a :term:`symmetric monoidal category`. Nested swaps can be defined using the :py:meth:`~lambeq.backend.grammar.Diagram.swap` method."
   ]
  },
  {
   "cell_type": "code",
   "execution_count": 8,
   "metadata": {},
   "outputs": [
    {
     "data": {
      "image/png": "[encoded data removed]",
      "text/plain": [
       "<Figure size 100x100 with 1 Axes>"
      ]
     },
     "metadata": {},
     "output_type": "display_data"
    },
    {
     "data": {
      "image/png": "[encoded data removed]",
      "text/plain": [
       "<Figure size 200x200 with 1 Axes>"
      ]
     },
     "metadata": {},
     "output_type": "display_data"
    }
   ],
   "source": [
    "from lambeq.backend.grammar import Diagram, Swap\n",
    "\n",
    "Swap(A, B).draw(figsize=(1, 1), draw_as_pregroup=False)\n",
    "Diagram.swap(A @ B, C).draw(figsize=(2, 2), draw_as_pregroup=False)"
   ]
  },
  {
   "cell_type": "raw",
   "metadata": {
    "raw_mimetype": "text/restructuredtext"
   },
   "source": [
    ".. note::\n",
    "\n",
    "   In a strict mathematical sense, the associativity and unit rules of :math:`\\otimes` in a :term:`monoidal category` only hold up to *isomorphism*. As a consequence, this definition requires extra morphisms such as unitors and associators, as well as complicated coherence conditions. Instead, ``lambeq`` strictly enforces the rules to hold up to equality, so such coherence conditions are unnecessary. This greatly simplifies its practical use."
   ]
  },
  {
   "cell_type": "markdown",
   "metadata": {},
   "source": [
    "## Rigid monoidal categories\n",
    "\n",
    "A *rigid category* is a monoidal category where every object $A$ has a *left adjoint* $A^l$ and *right adjoint* $A^r$. The left adjoint of the right adjoint of a type is equal to the type itself, and vice versa: $(A^r)^l = A = (A^l)^r$"
   ]
  },
  {
   "cell_type": "raw",
   "metadata": {
    "raw_mimetype": "text/restructuredtext"
   },
   "source": [
    "In the ``lambeq``, the :term:`adjoint` of a type :py:class:`~lambeq.backend.grammar.Ty` is obtained using the ``.l`` and ``.r`` properties:"
   ]
  },
  {
   "cell_type": "code",
   "execution_count": 9,
   "metadata": {},
   "outputs": [
    {
     "name": "stdout",
     "output_type": "stream",
     "text": [
      "A.l is represented as Ty(A).l\n",
      "A.r is represented as Ty(A).r\n"
     ]
    }
   ],
   "source": [
    "from lambeq.backend.grammar import Box, Id, Ty\n",
    "\n",
    "A = Ty('A')\n",
    "\n",
    "print(A.l, 'is represented as', repr(A.l))\n",
    "print(A.r, 'is represented as', repr(A.r))\n",
    "\n",
    "assert A.r.l == A == A.l.r"
   ]
  },
  {
   "cell_type": "raw",
   "metadata": {
    "raw_mimetype": "text/restructuredtext"
   },
   "source": [
    "The key property of a :term:`rigid category` is the existence of :term:`cups <cup>` and :term:`caps <cap>` between an object and its :term:`adjoint`: these are special morphisms that are drawn as bent wires in diagrammatic notation. "
   ]
  },
  {
   "cell_type": "code",
   "execution_count": 10,
   "metadata": {},
   "outputs": [
    {
     "data": {
      "image/png": "[encoded data removed]",
      "text/plain": [
       "<Figure size 800x100 with 1 Axes>"
      ]
     },
     "metadata": {},
     "output_type": "display_data"
    },
    {
     "data": {
      "image/png": "[encoded data removed]",
      "text/plain": [
       "<Figure size 800x100 with 1 Axes>"
      ]
     },
     "metadata": {},
     "output_type": "display_data"
    }
   ],
   "source": [
    "from lambeq.backend.grammar import Cap, Cup\n",
    "\n",
    "\n",
    "draw_equation(Cup(A.r, A.r.r), Cup(A, A.r), Cup(A.l, A), symbol='...', figsize=(8, 1))\n",
    "draw_equation(Cap(A.l, A.l.l), Cap(A, A.l), Cap(A.r, A), symbol='...', figsize=(8, 1))"
   ]
  },
  {
   "cell_type": "raw",
   "metadata": {
    "raw_mimetype": "text/restructuredtext"
   },
   "source": [
    ":term:`Cups <cup>` and :term:`caps <cap>` satisfy the so-called :term:`snake equations`:"
   ]
  },
  {
   "cell_type": "code",
   "execution_count": 11,
   "metadata": {},
   "outputs": [
    {
     "name": "stdout",
     "output_type": "stream",
     "text": [
      "Snake Equations - For any object A :\n"
     ]
    },
    {
     "data": {
      "image/png": "[encoded data removed]",
      "text/plain": [
       "<Figure size 800x200 with 1 Axes>"
      ]
     },
     "metadata": {},
     "output_type": "display_data"
    }
   ],
   "source": [
    "snake1 = Id(A) @ Cap(A.r, A) >> Cup(A, A.r) @ Id(A)\n",
    "snake2 = Cap(A, A.l) @ Id(A) >> Id(A) @ Cup(A.l, A)\n",
    "\n",
    "assert snake1.normal_form() == Id(A) == snake2.normal_form()\n",
    "print('Snake Equations - For any object', A, ':')\n",
    "draw_equation(snake1, Id(A), snake2, figsize=(8, 2))"
   ]
  },
  {
   "cell_type": "raw",
   "metadata": {
    "raw_mimetype": "text/restructuredtext"
   },
   "source": [
    ".. Note::\n",
    "\n",
    "   The :py:meth:`.grammar.Diagram.normal_form <~lambeq.backend.grammar.Diagram.normal_form>` method used above also applies on standard monoidal diagrams. \n",
    "\n",
    "Nested :term:`cups <cup>` and :term:`caps <cap>` can be created using the :py:meth:`.grammar.Diagram.cups <~lambeq.backend.grammar.Diagram.cups>` and :py:meth:`.grammar.Diagram.caps <~lambeq.backend.grammar.Diagram.caps>` methods."
   ]
  },
  {
   "cell_type": "code",
   "execution_count": 12,
   "metadata": {},
   "outputs": [
    {
     "data": {
      "image/png": "[encoded data removed]",
      "text/plain": [
       "<Figure size 640x480 with 1 Axes>"
      ]
     },
     "metadata": {},
     "output_type": "display_data"
    }
   ],
   "source": [
    "from lambeq.backend.grammar import Diagram\n",
    "\n",
    "A, B = Ty('A'), Ty('B')\n",
    "\n",
    "nested_cup = Diagram.cups(A @ B, (A @ B).r)\n",
    "nested_cap = Diagram.caps((A @ B).r, A @ B)\n",
    "\n",
    "nested_snake = Id(A @ B) @ nested_cap >> nested_cup @ Id(A @ B)\n",
    "\n",
    "assert nested_snake.normal_form() == Id(A @ B)\n",
    "draw_equation(nested_snake, nested_snake.normal_form())"
   ]
  }
 ],
 "metadata": {
  "language_info": {
   "name": "python"
  }
 },
 "nbformat": 4,
 "nbformat_minor": 4
}
