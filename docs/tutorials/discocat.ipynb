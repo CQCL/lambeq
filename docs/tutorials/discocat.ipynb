{
 "cells": [
  {
   "cell_type": "markdown",
   "metadata": {},
   "source": [
    "# DisCoCat in DisCoPy"
   ]
  },
  {
   "cell_type": "raw",
   "metadata": {
    "raw_mimetype": "text/restructuredtext"
   },
   "source": [
    "In the previous tutorial, we learnt the basics of :term:`monoidal categories <monoidal category>` and how to represent them in :term:`DisCoPy`. In this tutorial, we look at the `Distributional Compositional Categorical` model [CSC2010]_, which uses functors to map diagrams from the `rigid category <monoidal.ipynb#Rigid-monoidal-categories>`_ of `pregroup grammars <../string_diagrams.rst#Pregroup-grammars>`_ to vector space semantics.\n",
    "\n",
    ":download:`Download code <../_code/discocat.ipynb>`"
   ]
  },
  {
   "cell_type": "markdown",
   "metadata": {},
   "source": [
    "## Pregroup grammars"
   ]
  },
  {
   "cell_type": "raw",
   "metadata": {
    "raw_mimetype": "text/restructuredtext"
   },
   "source": [
    "`Pregroup grammar <../string_diagrams.rst#Pregroup-grammars>`_ is a grammatical formalism devised by Joachim Lambek in 1999 [Lam1999]_. In pregroups, each word is a morphism with type :math:`I \\to T` where :math:`I` is the monoidal unit and :math:`T` is a rigid type, referred to as the *pregroup type*. Here are some examples for pregroup type assignments:\n",
    "\n",
    "* a noun is given the base type :math:`n`.\n",
    "* an adjective consumes a noun on the noun's left to return another noun, so it is given the type :math:`n\\cdot n^l`.\n",
    "* a transitive verb consumes a noun on its left and another noun on its right to give a sentence, so is given the type :math:`n^r \\cdot s \\cdot n^l`.\n",
    "\n",
    "In the context of pregroups, the :term:`adjoints <adjoint>` :math:`n^l` and :math:`n^r` can be thought of as the left and right inverses of a type :math:`n` respectively. In a pregroup derivation, the words are concatenated using the monoidal product :math:`\\otimes` and linked using :term:`cups <cup>`, which are special morphisms that exist in any :term:`rigid category`. A sentence is grammatically sound if its derivation has a single uncontracted sentence wire.\n",
    "\n",
    "In :term:`DisCoPy`, words are defined using the :py:class:`~discopy.grammar.pregroup.Word` class. A :py:class:`~discopy.grammar.pregroup.Word` is just a :py:class:`~discopy.rigid.Box` where the input type is fixed to be the monoidal unit :math:`I` (or ``Ty()``). A pregroup derivation diagram can be drawn using either the :py:meth:`monoidal.Diagram.draw() <discopy.monoidal.Diagram.draw>` method or the :py:class:`grammar.draw() <discopy.grammar.pregroup.draw>` method."
   ]
  },
  {
   "cell_type": "code",
   "execution_count": 3,
   "metadata": {},
   "outputs": [
    {
     "data": {
      "image/png": "[encoded data removed]",
      "text/plain": [
       "<Figure size 400x200 with 1 Axes>"
      ]
     },
     "metadata": {},
     "output_type": "display_data"
    }
   ],
   "source": [
    "from discopy.grammar.pregroup import Cap, Cup, Id, Ty, Word\n",
    "\n",
    "n, s = Ty('n'), Ty('s')\n",
    "\n",
    "words = [\n",
    "    Word('she', n),\n",
    "    Word('goes', n.r @ s @ n.l),\n",
    "    Word('home', n)\n",
    "]\n",
    "\n",
    "cups = Cup(n, n.r) @ Id(s) @ Cup(n.l, n)\n",
    "\n",
    "assert Id().tensor(*words) == words[0] @ words[1] @ words[2]\n",
    "assert Ty().tensor(*[n.r, s, n.l]) == n.r @ s @ n.l\n",
    "\n",
    "diagram = Id().tensor(*words) >> cups\n",
    "diagram.draw(figsize=(4, 2))"
   ]
  },
  {
   "cell_type": "raw",
   "metadata": {
    "raw_mimetype": "text/restructuredtext"
   },
   "source": [
    ".. note::\n",
    "\n",
    "  In ``lambeq``, method :py:meth:`~lambeq.create_pregroup_diagram` provides an alternative, more compact way to create pregroup diagrams, by explicitly defining a list of :term:`cups <cup>` and :term:`swaps <swap>`. For example, the above diagram can be also generated using the following code:\n",
    "\n",
    "  .. code-block:: python\n",
    "\n",
    "     from lambeq import create_pregroup_diagram\n",
    "     from discopy import Ty\n",
    "\n",
    "     words = [Word('she', n), Word('goes', n.r @ s @ n.l), Word('home', n)]\n",
    "     morphisms = [(Cup, 0, 1), (Cup, 3, 4)]\n",
    "     diagram = create_pregroup_diagram(words, Ty('s'), morphisms)\n",
    "\n",
    "  where the numbers in ``morphisms`` define the indices of the corresponding wires at the top of the diagram\n",
    "  ``(n @ n.r @ s @ n.l @ n)``. In contrast, the ``.cup()`` method in :term:`DisCoPy` can be used to define\n",
    "  diagrams using chaining, and uses indices at the bottom of the diagram:\n",
    "\n",
    "  .. code-block:: python\n",
    "\n",
    "    words = Word('she', n) @ Word('goes', n.r @ s @ n.l) @ Word('home', n)\n",
    "    same_diagram = words.cup(0, 1).cup(1, 2)\n",
    "\n",
    "  The ``.cup()`` method can be applied to non-adjacent qubits, which implicitly introduces swaps. For example:\n",
    "\n",
    "  .. code-block:: python\n",
    "\n",
    "    n, s, p = map(Ty, \"nsp\")\n",
    "    words = Word('A', n @ p) @ Word('V', n.r @ s @ n.l) @ Word('B', p.r @ n)\n",
    "\n",
    "    words.cup(1, 5).cup(0, 1).cup(1, 2).draw()\n",
    "\n",
    "  .. image:: ../../_static/images/string_diagram_with_swaps.png\n",
    "     :width: 350\n",
    "\n",
    "Note that only diagrams of the form ``word @ ... @ word >> cups_and_swaps`` can be drawn using :py:class:`grammar.draw() <discopy.grammar.pregroup.draw>`. Applying functors or normal forms will often cause the diagram to deviate from this form, in which case :py:meth:`monoidal.Diagram.draw() <discopy.monoidal.Diagram.draw>` should be used."
   ]
  },
  {
   "cell_type": "code",
   "execution_count": 6,
   "metadata": {},
   "outputs": [
    {
     "name": "stdout",
     "output_type": "stream",
     "text": [
      "Before normal form: [Word('she', grammar.pregroup.Ty(rigid.Ob('n'))), Word('goes', grammar.pregroup.Ty(rigid.Ob('n', z=1), rigid.Ob('s'), rigid.Ob('n', z=-1))), Word('home', grammar.pregroup.Ty(rigid.Ob('n'))), grammar.pregroup.Cup(grammar.pregroup.Ty(rigid.Ob('n')), grammar.pregroup.Ty(rigid.Ob('n', z=1))), grammar.pregroup.Cup(grammar.pregroup.Ty(rigid.Ob('n', z=-1)), grammar.pregroup.Ty(rigid.Ob('n')))]\n",
      "After normal form: [Word('she', grammar.pregroup.Ty(rigid.Ob('n'))), Word('goes', grammar.pregroup.Ty(rigid.Ob('n', z=1), rigid.Ob('s'), rigid.Ob('n', z=-1))), Word('home', grammar.pregroup.Ty(rigid.Ob('n'))), grammar.pregroup.Cup(grammar.pregroup.Ty(rigid.Ob('n')), grammar.pregroup.Ty(rigid.Ob('n', z=1))), grammar.pregroup.Cup(grammar.pregroup.Ty(rigid.Ob('n', z=-1)), grammar.pregroup.Ty(rigid.Ob('n')))]\n"
     ]
    },
    {
     "data": {
      "image/png": "[encoded data removed]",
      "text/plain": [
       "<Figure size 1000x400 with 1 Axes>"
      ]
     },
     "metadata": {},
     "output_type": "display_data"
    }
   ],
   "source": [
    "from discopy.drawing.legacy import Equation\n",
    "from pytest import raises\n",
    "\n",
    "# In the original diagram, words appear before the cups\n",
    "print(\"Before normal form:\", diagram.boxes)\n",
    "\n",
    "diagram_nf = diagram.normal_form()\n",
    "print(\"After normal form:\", diagram_nf.boxes)\n",
    "\n",
    "Equation(diagram, diagram_nf, symbol='->').draw(figsize=(10, 4))\n",
    "\n",
    "# In the normalised diagram, boxes are not in the right order\n",
    "# anymore, so cannot be drawn using grammar.draw()\n",
    "# with raises(ValueError):\n",
    "#     diagram_nf.draw(figsize=(4, 2))"
   ]
  },
  {
   "cell_type": "raw",
   "metadata": {
    "raw_mimetype": "text/restructuredtext"
   },
   "source": [
    "In the example above, the application of normal form to the diagram introduces a :term:`cup` before the word \"home\", so the normalised version cannot be drawn with :py:class:`grammar.draw() <discopy.grammar.pregroup.draw>` anymore."
   ]
  },
  {
   "cell_type": "markdown",
   "metadata": {},
   "source": [
    "## Functors"
   ]
  },
  {
   "cell_type": "raw",
   "metadata": {
    "raw_mimetype": "text/restructuredtext"
   },
   "source": [
    "Given :term:`monoidal categories <monoidal category>` :math:`\\mathcal{C}` and :math:`\\mathcal{D}`, a monoidal :term:`functor` :math:`F: \\mathcal{C} \\to \\mathcal{D}` satisfies the following properties:\n",
    "\n",
    "- monoidal structure of objects is preserved: :math:`F(A \\otimes B) = F(A) \\otimes F(B)`\n",
    "- :term:`adjoints <adjoint>` are preserved: :math:`F(A^l) = F(A)^l`, :math:`F(A^r) = F(A)^r`\n",
    "- monoidal structure of morphism is preserved: :math:`F(g \\otimes f) = F(g) \\otimes F(f)`\n",
    "- compositonal structure of morphisms is preserved: :math:`F(g \\circ f) = F(g) \\circ F(f)`\n",
    "\n",
    "Put simply, a :term:`functor` is a structure-preserving transformation. In a free :term:`monoidal category`, applying a :term:`functor` to a diagram amounts to simply providing a mapping for each generating object and morphism. In :term:`DisCoPy`, a :term:`functor` is defined by passing mappings (dictionaries or functions) as arguments ``ob`` and ``ar`` to the :py:class:`~discopy.monoidal.Functor` class.\n",
    "\n",
    ":term:`Functors <functor>` are one of the most powerful concepts in category theory. In fact, the encoding, rewriting and parameterisation steps of ``lambeq``'s :ref:`pipeline <sec-pipeline>` are implemented individually as :term:`functors <functor>`, resulting in an overall functorial transformation from :term:`parse trees <syntax tree>` to :term:`tensor networks <tensor network>` and :term:`circuits <quantum circuit>`. More specifically:\n",
    "\n",
    "- :py:class:`lambeq.CCGParser` uses a :term:`functor` to transform a biclosed CCG diagram to a rigid DisCoCat diagram [YK2021]_.\n",
    "- :py:class:`lambeq.Rewriter` functorially transforms a rigid DisCoCat diagram to a simpler rigid DisCoCat diagram.\n",
    "- :py:class:`lambeq.TensorAnsatz` functorially transforms a rigid DisCoCat diagram to a tensor diagram, which can be evaluated as a tensor network using NumPy, JAX or PyTorch.\n",
    "- :py:class:`lambeq.CircuitAnsatz` functorially transforms a rigid DisCoCat diagram to a :term:`quantum circuit`, for evaluation on a quantum device.\n",
    "\n",
    "Below we present two examples of :term:`functors <functor>`, implemented in :term:`DisCoPy`."
   ]
  },
  {
   "cell_type": "markdown",
   "metadata": {},
   "source": [
    "### Example 1: \"Very\" functor"
   ]
  },
  {
   "cell_type": "raw",
   "metadata": {
    "raw_mimetype": "text/restructuredtext"
   },
   "source": [
    "This :term:`functor` adds the word \"very\" in front of every adjective in a :term:`DisCoCat` diagram. \n",
    "Since the mapping is from a :py:class:`rigid.Diagram <discopy.rigid.Diagram>` to another :py:class:`rigid.Diagram <discopy.rigid.Diagram>`, a :py:class:`rigid.Functor <discopy.rigid.Functor>` should be used. Further, the word \"very\" modifies an adjective to return another adjective, so it should have type \n",
    ":math:`(n \\otimes n^l) \\otimes (n \\otimes n^l)^l = n \\otimes n^l \\otimes n^{ll} \\otimes n^l`."
   ]
  },
  {
   "cell_type": "code",
   "execution_count": 7,
   "metadata": {},
   "outputs": [],
   "source": [
    "from lambeq import BobcatParser\n",
    "parser = BobcatParser(verbose='suppress')"
   ]
  },
  {
   "cell_type": "code",
   "execution_count": 9,
   "metadata": {},
   "outputs": [
    {
     "data": {
      "image/png": "[encoded data removed]",
      "text/plain": [
       "<Figure size 1000x400 with 1 Axes>"
      ]
     },
     "metadata": {},
     "output_type": "display_data"
    }
   ],
   "source": [
    "from discopy.grammar.pregroup import Diagram, Functor\n",
    "\n",
    "# determiners have the same type as adjectives\n",
    "# but we shouldn't add 'very' behind them\n",
    "determiners = ['a', 'the', 'my', 'his', 'her', 'their']\n",
    "\n",
    "# type for an adjective\n",
    "adj = n @ n.l\n",
    "very = Word('very', adj @ adj.l)\n",
    "cups = Diagram.cups(adj.l, adj)\n",
    "\n",
    "def very_ob(ty):\n",
    "    return ty\n",
    "\n",
    "def very_ar(box):\n",
    "    if box != very:\n",
    "        if box.name not in determiners:\n",
    "            if box.cod == adj:\n",
    "                return very @ box >> Id(adj) @ cups\n",
    "    return box\n",
    "\n",
    "very_functor = Functor(ob=very_ob, ar=very_ar)\n",
    "\n",
    "diagram = parser.sentence2diagram('a big bad wolf')\n",
    "new_diagram = very_functor(diagram)\n",
    "\n",
    "Equation(diagram, new_diagram, symbol='->').draw(figsize=(10, 4))"
   ]
  },
  {
   "cell_type": "markdown",
   "metadata": {},
   "source": [
    "### Example 2: Twist functor"
   ]
  },
  {
   "cell_type": "raw",
   "metadata": {
    "raw_mimetype": "text/restructuredtext"
   },
   "source": [
    "In this :term:`functor`, :term:`cups <cup>` and :term:`caps <cap>` are treated specially and are not passed to the ``ar`` function; instead they are passed to methods ``ar_factory.cups(left, right)`` and ``ar_factory.caps(left, right)``, respectively. By default, the :py:class:`rigid.Functor <discopy.rigid.Functor>` uses :py:class:`rigid.Diagram <discopy.rigid.Diagram>` to implement the `factory pattern <https://en.wikipedia.org/wiki/Factory_method_pattern>`_, with methods such as ``cups()``, ``caps()``, ``id()``, and ``swap()``. For example, for a functor ``F`` that uses the default arrow factory :py:class:`~discopy.rigid.Diagram`, ``F(Cup(a, a.r)) == Diagram.cups(F(a), F(a.r))``.\n",
    "\n",
    "Here is an example of how to map a :term:`cup` to a custom diagram, such as a \"twisted\" :term:`cup`. Note that it is up to the user to ensure the new :term:`cups <cup>` and :term:`caps <cap>` satisfy the :term:`snake equations`."
   ]
  },
  {
   "cell_type": "code",
   "execution_count": 10,
   "metadata": {},
   "outputs": [
    {
     "ename": "TypeError",
     "evalue": "__init__() got an unexpected keyword argument 'ar_factory'",
     "output_type": "error",
     "traceback": [
      "\u001b[0;31m---------------------------------------------------------------------------\u001b[0m",
      "\u001b[0;31mTypeError\u001b[0m                                 Traceback (most recent call last)",
      "Cell \u001b[0;32mIn[10], line 21\u001b[0m\n\u001b[1;32m     16\u001b[0m     \u001b[39m@staticmethod\u001b[39m\n\u001b[1;32m     17\u001b[0m     \u001b[39mdef\u001b[39;00m \u001b[39mcaps\u001b[39m(left, right):\n\u001b[1;32m     18\u001b[0m         \u001b[39mreturn\u001b[39;00m TwistedDiagram\u001b[39m.\u001b[39mcups(left, right)\u001b[39m.\u001b[39mdagger()\n\u001b[0;32m---> 21\u001b[0m twist_functor \u001b[39m=\u001b[39m Functor(ob\u001b[39m=\u001b[39;49mtwist_ob, ar\u001b[39m=\u001b[39;49mtwist_ar, ar_factory\u001b[39m=\u001b[39;49mTwistedDiagram)\n\u001b[1;32m     23\u001b[0m diagram \u001b[39m=\u001b[39m parser\u001b[39m.\u001b[39msentence2diagram(\u001b[39m'\u001b[39m\u001b[39mThis is twisted\u001b[39m\u001b[39m'\u001b[39m)\n\u001b[1;32m     24\u001b[0m new_diagram \u001b[39m=\u001b[39m twist_functor(diagram)\n",
      "\u001b[0;31mTypeError\u001b[0m: __init__() got an unexpected keyword argument 'ar_factory'"
     ]
    }
   ],
   "source": [
    "from discopy.grammar.pregroup import Diagram, Functor\n",
    "\n",
    "def twist_ob(ty):\n",
    "    return ty\n",
    "\n",
    "def twist_ar(box):\n",
    "    return box\n",
    "\n",
    "class TwistedDiagram(Diagram):\n",
    "    @staticmethod\n",
    "    def cups(left, right):\n",
    "        swaps = Diagram.swap(left, right)\n",
    "        cups = Diagram.cups(right, left)\n",
    "        return swaps >> cups\n",
    "\n",
    "    @staticmethod\n",
    "    def caps(left, right):\n",
    "        return TwistedDiagram.cups(left, right).dagger()\n",
    "\n",
    "\n",
    "twist_functor = Functor(ob=twist_ob, ar=twist_ar, ar_factory=TwistedDiagram)\n",
    "\n",
    "diagram = parser.sentence2diagram('This is twisted')\n",
    "new_diagram = twist_functor(diagram)\n",
    "\n",
    "diagram.draw(figsize=(4, 2))\n",
    "new_diagram.draw(figsize=(4, 2))\n",
    "\n",
    "snake = Id(n) @ Cap(n.r, n) >> Cup(n, n.r) @ Id(n)\n",
    "Equation(twist_functor(snake), Id(n), symbol='=').draw(figsize=(4, 2))"
   ]
  },
  {
   "cell_type": "raw",
   "metadata": {
    "raw_mimetype": "text/restructuredtext"
   },
   "source": [
    ".. note::\n",
    "    \n",
    "   Twisting the nested :term:`cups <cup>` for \"is\" and \"twisted\" together is **not** a functorial operation, so it cannot be implemented using a :py:class:`rigid.Functor <discopy.rigid.Functor>`."
   ]
  },
  {
   "cell_type": "markdown",
   "metadata": {},
   "source": [
    "## Classical DisCoCat: Tensor networks"
   ]
  },
  {
   "cell_type": "raw",
   "metadata": {
    "raw_mimetype": "text/restructuredtext"
   },
   "source": [
    "The classical version of :term:`DisCoCat` sends diagrams in the :term:`category` of pregroup derivations to tensors in the :term:`category` of vector spaces **FVect**. **FVect** is a :term:`monoidal category` with vector spaces (e.g. :math:`\\mathbb{R}^2 \\otimes \\mathbb{R}^2`) as objects and linear maps between vector spaces as morphisms. It is in fact a :term:`compact closed category`, which is a special case of rigid categories where :math:`A^l = A^r = A^*`.\n",
    "\n",
    "Using the :py:mod:`discopy.tensor` module, you can define a free :term:`category` of vector spaces: objects are defined with the :py:class:`~discopy.tensor.Dim` class and morphisms with the :py:class:`~discopy.tensor.Box` class. Composite morphisms are constructed by freely combining the generating morphisms using the ``<<`` and ``>>`` operators. This is similar to how :py:class:`rigid.Diagram <discopy.rigid.Diagram>`\\ s and :py:class:`monoidal.Diagram <discopy.monoidal.Diagram>`\\ s are defined. The concrete value of the tensor is passed to the ``data`` attribute as an unshaped list; :term:`DisCoPy` will reshape it later based on the input and output dimensions.\n",
    "\n",
    "Apart of diagrams, the :py:mod:`discopy.tensor` module has another class that can be tensored and composed: :py:class:`tensor.Tensor <discopy.tensor.Tensor>`. The key difference is that :py:class:`tensor.Box <discopy.tensor.Box>`\\ es in the diagrams compose together to make :py:class:`tensor.Diagram <discopy.tensor.Diagram>`\\ s, while :py:class:`tensor.Tensor <discopy.tensor.Tensor>`\\ s compose together to make another :py:class:`tensor.Tensor <discopy.tensor.Tensor>`. In other words, :py:class:`tensor.Tensor <discopy.tensor.Tensor>` computes tensor contractions directly, while :py:class:`tensor.Diagram <discopy.tensor.Diagram>` delays the computation until :py:meth:`~discopy.tensor.Diagram.eval` is called."
   ]
  },
  {
   "cell_type": "code",
   "execution_count": 6,
   "metadata": {},
   "outputs": [
    {
     "name": "stdout",
     "output_type": "stream",
     "text": [
      "Dim(1) @ Dim(2) @ Dim(3)=Dim(2, 3)\n"
     ]
    },
    {
     "data": {
      "image/png": "[encoded data removed]",
      "text/plain": [
       "<Figure size 288x72 with 1 Axes>"
      ]
     },
     "metadata": {},
     "output_type": "display_data"
    },
    {
     "name": "stdout",
     "output_type": "stream",
     "text": [
      "[[1 0]\n",
      " [0 1]]\n"
     ]
    }
   ],
   "source": [
    "from discopy.tensor import Box, Tensor, Id, Dim\n",
    "\n",
    "# Dim(1) is the unit object, so disappears when tensored with another Dim\n",
    "print(f'{Dim(1) @ Dim(2) @ Dim(3)=}')\n",
    "\n",
    "id_box = Box('Id Box', Dim(2), Dim(2), data=[1,0,0,1])\n",
    "id_tensor = Tensor(Dim(2), Dim(2), array=[1,0,0,1])\n",
    "\n",
    "# the actual values of id_box and id_tensor are equal\n",
    "assert (id_box.array == id_tensor.array).all()\n",
    "drawing.equation(id_box, id_tensor, figsize=(4, 1))\n",
    "print(id_box.array)"
   ]
  },
  {
   "cell_type": "code",
   "execution_count": 7,
   "metadata": {},
   "outputs": [
    {
     "data": {
      "image/png": "[encoded data removed]",
      "text/plain": [
       "<Figure size 432x144 with 1 Axes>"
      ]
     },
     "metadata": {},
     "output_type": "display_data"
    },
    {
     "name": "stdout",
     "output_type": "stream",
     "text": [
      "Tensor(dom=Dim(2, 2), cod=Dim(2), array=[0., 1., 2., 3., 4., 5., 6., 7.])\n",
      "[[[0. 1.]\n",
      "  [2. 3.]]\n",
      "\n",
      " [[4. 5.]\n",
      "  [6. 7.]]]\n"
     ]
    }
   ],
   "source": [
    "f_box = Box('f Box', Dim(2, 2), Dim(2), data=range(8))\n",
    "f_tensor = Tensor(Dim(2, 2), Dim(2), array=range(8))\n",
    "\n",
    "combined_diagram = id_box @ Id(Dim(2)) >> f_box\n",
    "combined_tensor = id_tensor @ Tensor.id(Dim(2)) >> f_tensor\n",
    "\n",
    "# tensor diagram evaluates to the tensor\n",
    "assert combined_diagram.eval() == combined_tensor\n",
    "drawing.equation(combined_diagram, combined_tensor, figsize=(6, 2))\n",
    "print(combined_tensor)\n",
    "print(combined_tensor.array)"
   ]
  },
  {
   "cell_type": "raw",
   "metadata": {
    "raw_mimetype": "text/restructuredtext"
   },
   "source": [
    "In the :term:`category` of vector spaces, :term:`cups <cup>`, :term:`caps <cap>` and :term:`swaps <swap>` take on concrete values as tensors."
   ]
  },
  {
   "cell_type": "code",
   "execution_count": 8,
   "metadata": {},
   "outputs": [
    {
     "data": {
      "text/plain": [
       "array([[1., 0., 0.],\n",
       "       [0., 1., 0.],\n",
       "       [0., 0., 1.]])"
      ]
     },
     "execution_count": 8,
     "metadata": {},
     "output_type": "execute_result"
    }
   ],
   "source": [
    "Tensor.cups(Dim(3), Dim(3)).array"
   ]
  },
  {
   "cell_type": "code",
   "execution_count": 9,
   "metadata": {},
   "outputs": [
    {
     "data": {
      "text/plain": [
       "array([[[[1., 0.],\n",
       "         [0., 0.]],\n",
       "\n",
       "        [[0., 0.],\n",
       "         [1., 0.]]],\n",
       "\n",
       "\n",
       "       [[[0., 1.],\n",
       "         [0., 0.]],\n",
       "\n",
       "        [[0., 0.],\n",
       "         [0., 1.]]]])"
      ]
     },
     "execution_count": 9,
     "metadata": {},
     "output_type": "execute_result"
    }
   ],
   "source": [
    "Tensor.swap(Dim(2), Dim(2)).array"
   ]
  },
  {
   "cell_type": "raw",
   "metadata": {
    "raw_mimetype": "text/restructuredtext"
   },
   "source": [
    "To implement a :term:`functor` from :py:class:`rigid.Diagram <discopy.rigid.Diagram>` to :py:class:`tensor.Tensor <discopy.tensor.Tensor>`, use a :py:class:`tensor.Functor <discopy.tensor.Functor>`. This :term:`functor` will automatically contract the resulting :term:`tensor network`."
   ]
  },
  {
   "cell_type": "code",
   "execution_count": 10,
   "metadata": {},
   "outputs": [
    {
     "name": "stdout",
     "output_type": "stream",
     "text": [
      "\"This\" becomes\n",
      "[1. 1.]\n",
      "\"is\" becomes\n",
      "[[[[1. 1.]\n",
      "   [1. 1.]]\n",
      "\n",
      "  [[1. 1.]\n",
      "   [1. 1.]]]\n",
      "\n",
      "\n",
      " [[[1. 1.]\n",
      "   [1. 1.]]\n",
      "\n",
      "  [[1. 1.]\n",
      "   [1. 1.]]]]\n",
      "\"twisted\" becomes\n",
      "[[1. 1.]\n",
      " [1. 1.]]\n"
     ]
    },
    {
     "data": {
      "text/plain": [
       "Tensor(dom=Dim(1), cod=Dim(2), array=[8., 8.])"
      ]
     },
     "execution_count": 10,
     "metadata": {},
     "output_type": "execute_result"
    }
   ],
   "source": [
    "from discopy.tensor import Functor\n",
    "import numpy as np\n",
    "\n",
    "def one_ob(ty):\n",
    "    dims = [2] * len(ty)\n",
    "    return Dim(*dims) # does Dim(2,2,..)\n",
    "\n",
    "def one_ar(box):\n",
    "    dom = one_ob(box.dom)\n",
    "    cod = one_ob(box.cod)\n",
    "    tensor = np.ones(dom @ cod)\n",
    "    print(f'\"{box}\" becomes')\n",
    "    print(tensor)\n",
    "    return tensor\n",
    "\n",
    "one_functor = Functor(ob=one_ob, ar=one_ar)\n",
    "one_functor(diagram)"
   ]
  },
  {
   "cell_type": "raw",
   "metadata": {
    "raw_mimetype": "text/restructuredtext"
   },
   "source": [
    "Sometimes, defining a :term:`functor` from :py:class:`rigid.Diagram <discopy.rigid.Diagram>` to :py:class:`tensor.Diagram <discopy.tensor.Diagram>` offers more flexibility, since a :py:class:`tensor.Diagram <discopy.tensor.Diagram>` can be instantiated with concrete values to be evaluated later using a custom tensor contractor. Such a functor can be defined using a :py:class:`rigid.Functor <discopy.rigid.Functor>` with :py:class:`tensor.Dim <discopy.tensor.Dim>` and :py:class:`tensor.Diagram <discopy.tensor.Diagram>` as ``ob_factory`` and ``ar_factory``, respectively. See the implementation of :py:class:`.TensorAnsatz` for an example."
   ]
  },
  {
   "cell_type": "markdown",
   "metadata": {},
   "source": [
    "## Quantum DisCoCat: Quantum circuits"
   ]
  },
  {
   "cell_type": "raw",
   "metadata": {
    "raw_mimetype": "text/restructuredtext"
   },
   "source": [
    "The quantum version of :term:`DisCoCat` sends diagrams in the :term:`category` of pregroup derivations to :term:`circuits <quantum circuit>` in the category of Hilbert spaces **FHilb**. This is a :term:`compact closed <compact closed category>` monoidal category with Hilbert spaces (e.g. :math:`\\mathbb{C}^{2^n}`) as objects and unitary maps between Hilbert spaces as morphisms.\n",
    "\n",
    "The :py:mod:`discopy.quantum` module is a framework for the free :term:`category` of :term:`quantum circuits <quantum circuit>`: objects are generated using the :py:class:`quantum.circuit.Ob <discopy.quantum.circuit.Ob>` class and morphisms by using :py:mod:`quantum.gates <discopy.quantum.gates>`. In :term:`DisCoPy`, rotation values range from :math:`0` to :math:`1` rather than from :math:`0` to :math:`2\\pi`. The circuit can then either be evaluated using tensor contraction with the :py:meth:`~discopy.quantum.circuit.Circuit.eval` method, or exported to :term:`pytket` using the :meth:`~discopy.quantum.circuit.Circuit.to_tk` method, which supports multiple hardware backends."
   ]
  },
  {
   "cell_type": "code",
   "execution_count": 11,
   "metadata": {},
   "outputs": [
    {
     "data": {
      "image/png": "[encoded data removed]",
      "text/plain": [
       "<Figure size 432x288 with 1 Axes>"
      ]
     },
     "metadata": {},
     "output_type": "display_data"
    },
    {
     "data": {
      "text/plain": [
       "tk.Circuit(4).CX(1, 2).X(3).CX(0, 1).CX(2, 3).Rz(0.2, 0).Rz(0.4, 1).Rz(0.6, 2).Rz(0.8, 3)"
      ]
     },
     "execution_count": 11,
     "metadata": {},
     "output_type": "execute_result"
    }
   ],
   "source": [
    "from discopy.quantum import qubit, Id\n",
    "from discopy.quantum.gates import CX, Rz, X\n",
    "\n",
    "circuit = Id(4)\n",
    "circuit >>= Id(1) @ CX @ X\n",
    "circuit >>= CX @ CX\n",
    "circuit >>= Rz(0.1) @ Rz(0.2) @ Rz(0.3) @ Rz(0.4)\n",
    "\n",
    "# from discopy 0.4.1, can do:\n",
    "same_circuit = (Id(4).CX(1, 2).X(3).CX(0, 1).CX(2, 3)\n",
    "                .Rz(0.1, 0).Rz(0.2, 1).Rz(0.3, 2).Rz(0.4, 3))\n",
    "assert circuit == same_circuit\n",
    "\n",
    "circuit.draw()\n",
    "circuit.to_tk()"
   ]
  },
  {
   "cell_type": "raw",
   "metadata": {
    "raw_mimetype": "text/restructuredtext"
   },
   "source": [
    "To apply multi-qubit :term:`gates <quantum gate>` to non-consecutive :term:`qubits <qubit>`, use :term:`swaps <swap>` to permute the wires, apply the :term:`gate <quantum gate>`, then unpermute the wires. These :term:`swaps <swap>` are only logical swaps and do not result in more gates when converted to :term:`tket` format."
   ]
  },
  {
   "cell_type": "code",
   "execution_count": 12,
   "metadata": {},
   "outputs": [
    {
     "data": {
      "image/png": "[encoded data removed]",
      "text/plain": [
       "<Figure size 216x216 with 1 Axes>"
      ]
     },
     "metadata": {},
     "output_type": "display_data"
    },
    {
     "data": {
      "text/plain": [
       "tk.Circuit(3).CX(2, 0)"
      ]
     },
     "execution_count": 12,
     "metadata": {},
     "output_type": "execute_result"
    }
   ],
   "source": [
    "from discopy import Circuit\n",
    "from discopy.quantum.gates import SWAP\n",
    "\n",
    "# to apply a CNOT on qubits 2 and 0:\n",
    "circuit1 = Id(3)\n",
    "circuit1 >>= SWAP @ Id(1)\n",
    "circuit1 >>= Id(1) @ SWAP\n",
    "circuit1 >>= Id(1) @ CX\n",
    "circuit1 >>= Id(1) @ SWAP\n",
    "circuit1 >>= SWAP @ Id(1)\n",
    "\n",
    "# or you can do\n",
    "perm = Circuit.permutation([2, 0, 1], inverse=True)\n",
    "circuit2 = perm >> Id(1) @ CX >> perm[::-1]\n",
    "\n",
    "assert circuit1 == circuit2\n",
    "circuit1.draw(figsize=(3, 3))\n",
    "\n",
    "# no swaps introduced when converting to tket\n",
    "circuit1.to_tk()"
   ]
  },
  {
   "cell_type": "raw",
   "metadata": {
    "raw_mimetype": "text/restructuredtext"
   },
   "source": [
    "Since discopy 0.4.0, we have long-ranged controlled gates."
   ]
  },
  {
   "cell_type": "code",
   "execution_count": 13,
   "metadata": {},
   "outputs": [
    {
     "data": {
      "image/png": "[encoded data removed]",
      "text/plain": [
       "<Figure size 216x144 with 1 Axes>"
      ]
     },
     "metadata": {},
     "output_type": "display_data"
    },
    {
     "data": {
      "image/png": "[encoded data removed]",
      "text/plain": [
       "<Figure size 216x144 with 1 Axes>"
      ]
     },
     "metadata": {},
     "output_type": "display_data"
    }
   ],
   "source": [
    "from discopy.quantum import Controlled, Rz, X\n",
    "(Controlled(Rz(0.5), distance=2) >> Controlled(X, distance=-2)).draw(figsize=(3, 2))\n",
    "Controlled(Controlled(X), distance=2).draw(figsize=(3, 2))"
   ]
  },
  {
   "cell_type": "raw",
   "metadata": {
    "raw_mimetype": "text/restructuredtext"
   },
   "source": [
    "So far, our :term:`circuits <quantum circuit>` have been \"pure\" circuits, consisting of unitaries. Pure circuits can be evaluated locally to return a :py:class:`~discopy.tensor.Tensor`. Circuits containing :py:class:`~discopy.quantum.circuit.Discard`\\ s and :py:class:`~discopy.quantum.circuit.Measure`\\ s are considered \"mixed\", and return :py:mod:`CQMap <discopy.quantum.cqmap>`\\ s instead of :py:class:`~discopy.tensor.Tensor`\\ s when evaluated, as they are not unitaries but rather classical-quantum maps (for more details, see Chapter 5 in [HV2013]_)."
   ]
  },
  {
   "cell_type": "code",
   "execution_count": 14,
   "metadata": {},
   "outputs": [
    {
     "name": "stdout",
     "output_type": "stream",
     "text": [
      "C(Dim(2, 2)) @ Q(Dim(2, 3))\n",
      "CQMap(dom=Q(Dim(2)), cod=CQ(), array=[1.+0.j, 0.+0.j, 0.+0.j, 1.+0.j])\n",
      "CQMap(dom=Q(Dim(2)), cod=C(Dim(2)), array=[1.+0.j, 0.+0.j, 0.+0.j, 0.+0.j, 0.+0.j, 0.+0.j, 0.+0.j, 1.+0.j])\n",
      "Tensor(dom=Dim(1), cod=Dim(2), array=[1.+0.j, 0.+0.j])\n",
      "CQMap(dom=CQ(), cod=C(Dim(2)), array=[1.+0.j, 0.+0.j])\n"
     ]
    }
   ],
   "source": [
    "from discopy import Discard, Measure, Ket\n",
    "from discopy import C, Q\n",
    "\n",
    "print(C(Dim(2)) @ Q(Dim(2, 3)) @ C(Dim(2)))\n",
    "\n",
    "print(Discard().eval())\n",
    "print(Measure().eval())\n",
    "print(Ket(0).eval())\n",
    "# circuits that have measurements in them are no longer unitary\n",
    "# and return CQMaps\n",
    "print((Ket(0) >> Measure()).eval())"
   ]
  },
  {
   "cell_type": "raw",
   "metadata": {
    "raw_mimetype": "text/restructuredtext"
   },
   "source": [
    "Pure :term:`circuits <quantum circuit>` can be coerced to evaluate into a :py:mod:`CQMap <discopy.quantum.cqmap>` by setting ``mixed=True``."
   ]
  },
  {
   "cell_type": "code",
   "execution_count": 15,
   "metadata": {},
   "outputs": [
    {
     "data": {
      "text/plain": [
       "CQMap(dom=Q(Dim(2, 2)), cod=Q(Dim(2, 2)), array=[1.+0.j, 0.+0.j, 0.+0.j, ..., 0.+0.j, 0.+0.j, 0.+0.j])"
      ]
     },
     "execution_count": 15,
     "metadata": {},
     "output_type": "execute_result"
    }
   ],
   "source": [
    "CX.eval(mixed=True)"
   ]
  },
  {
   "cell_type": "raw",
   "metadata": {
    "raw_mimetype": "text/restructuredtext"
   },
   "source": [
    "Note that the tensor order of :py:mod:`CQMap <discopy.quantum.cqmap>`\\ s is doubled, compared to that of simple :py:class:`~discopy.tensor.Tensor`\\ s:"
   ]
  },
  {
   "cell_type": "code",
   "execution_count": 16,
   "metadata": {},
   "outputs": [
    {
     "name": "stdout",
     "output_type": "stream",
     "text": [
      "(2, 2, 2, 2)\n",
      "(2, 2, 2, 2, 2, 2, 2, 2)\n"
     ]
    }
   ],
   "source": [
    "print(CX.eval().array.shape)\n",
    "print(CX.eval(mixed=True).array.shape)"
   ]
  },
  {
   "cell_type": "raw",
   "metadata": {
    "raw_mimetype": "text/restructuredtext"
   },
   "source": [
    "To implement a :term:`functor` from :py:class:`rigid.Diagram <discopy.rigid.Diagram>` to :py:class:`quantum.Circuit <discopy.quantum.circuit.Circuit>`, use a :py:class:`quantum.circuit.Functor <discopy.quantum.circuit.Functor>`."
   ]
  },
  {
   "cell_type": "code",
   "execution_count": 17,
   "metadata": {},
   "outputs": [
    {
     "data": {
      "image/png": "[encoded data removed]",
      "text/plain": [
       "<Figure size 432x288 with 1 Axes>"
      ]
     },
     "metadata": {},
     "output_type": "display_data"
    },
    {
     "data": {
      "image/png": "[encoded data removed]",
      "text/plain": [
       "<Figure size 576x576 with 1 Axes>"
      ]
     },
     "metadata": {},
     "output_type": "display_data"
    }
   ],
   "source": [
    "from discopy.quantum.circuit import Functor, Id\n",
    "\n",
    "def cnot_ob(ty):\n",
    "    # this implicitly maps all rigid types to 1 qubit\n",
    "    return qubit ** len(ty)\n",
    "\n",
    "def cnot_ar(box):\n",
    "    dom = len(box.dom)\n",
    "    cod = len(box.cod)\n",
    "    width = max(dom, cod)\n",
    "    circuit = Id(width)\n",
    "    for i in range(width - 1):\n",
    "        circuit >>= Id(i) @ CX @ Id(width - i - 2)\n",
    "\n",
    "    # Add Bras (post-selection) and Kets (states)\n",
    "    # to get a circuit with the right amount of\n",
    "    # input and output wires\n",
    "    if cod <= dom:\n",
    "        circuit >>= Id(cod) @ Bra(*[0]*(dom - cod))\n",
    "    else:\n",
    "        circuit <<= Id(dom) @ Ket(*[0]*(cod - dom))\n",
    "    return circuit\n",
    "\n",
    "cnot_functor = Functor(ob=cnot_ob, ar=cnot_ar)\n",
    "diagram.draw()\n",
    "cnot_functor(diagram).draw(figsize=(8, 8))"
   ]
  }
 ],
 "metadata": {
  "kernelspec": {
   "display_name": "venv",
   "language": "python",
   "name": "python3"
  },
  "language_info": {
   "codemirror_mode": {
    "name": "ipython",
    "version": 3
   },
   "file_extension": ".py",
   "mimetype": "text/x-python",
   "name": "python",
   "nbconvert_exporter": "python",
   "pygments_lexer": "ipython3",
   "version": "3.9.6"
  }
 },
 "nbformat": 4,
 "nbformat_minor": 4
}
