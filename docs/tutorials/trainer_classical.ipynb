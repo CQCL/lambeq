{
 "cells": [
  {
   "cell_type": "markdown",
   "metadata": {},
   "source": [
    "# Training: Classical case"
   ]
  },
  {
   "cell_type": "raw",
   "metadata": {
    "raw_mimetype": "text/restructuredtext"
   },
   "source": [
    "In this section, we present a complete use case of ``lambeq``'s :py:mod:`.training` module, implementing a classical pipeline on the meaning classification dataset introduced in [Lea2021]_. The goal is to classify simple sentences (such as \"skillful programmer creates software\" and \"chef prepares delicious meal\") into two categories, food or IT. The dataset consists of 130 sentences created using a simple context-free grammar.\n",
    "\n",
    "We will use a :py:class:`.SpiderAnsatz` to split large tensors into chains of smaller ones. The pipeline uses PyTorch as a backend.\n",
    "\n",
    ":download:`Download code <../_code/trainer_classical.ipynb>`"
   ]
  },
  {
   "cell_type": "markdown",
   "metadata": {},
   "source": [
    "## Preparation\n",
    "\n",
    "We start with importing PyTorch and specifying some training hyperparameters."
   ]
  },
  {
   "cell_type": "code",
   "execution_count": 1,
   "metadata": {},
   "outputs": [],
   "source": [
    "import torch\n",
    "\n",
    "BATCH_SIZE = 30\n",
    "EPOCHS = 30\n",
    "LEARNING_RATE = 3e-2\n",
    "SEED = 0"
   ]
  },
  {
   "cell_type": "markdown",
   "metadata": {},
   "source": [
    "### Input data\n",
    "\n",
    "Let's read the data and print some example sentences."
   ]
  },
  {
   "cell_type": "code",
   "execution_count": 2,
   "metadata": {},
   "outputs": [],
   "source": [
    "def read_data(filename):\n",
    "    labels, sentences = [], []\n",
    "    with open(filename) as f:\n",
    "        for line in f:\n",
    "            t = float(line[0])\n",
    "            labels.append([t, 1-t])\n",
    "            sentences.append(line[1:].strip())\n",
    "    return labels, sentences\n",
    "\n",
    "\n",
    "train_labels, train_data = read_data('../examples/datasets/mc_train_data.txt')\n",
    "val_labels, val_data = read_data('../examples/datasets/mc_dev_data.txt')\n",
    "test_labels, test_data = read_data('../examples/datasets/mc_test_data.txt')"
   ]
  },
  {
   "cell_type": "code",
   "execution_count": 3,
   "metadata": {},
   "outputs": [
    {
     "data": {
      "text/plain": [
       "['skillful man prepares sauce .',\n",
       " 'skillful man bakes dinner .',\n",
       " 'woman cooks tasty meal .',\n",
       " 'man prepares meal .',\n",
       " 'skillful woman debugs program .']"
      ]
     },
     "execution_count": 3,
     "metadata": {},
     "output_type": "execute_result"
    }
   ],
   "source": [
    "train_data[:5]"
   ]
  },
  {
   "cell_type": "markdown",
   "metadata": {},
   "source": [
    "Targets are represented as 2-dimensional arrays:"
   ]
  },
  {
   "cell_type": "code",
   "execution_count": 4,
   "metadata": {},
   "outputs": [
    {
     "data": {
      "text/plain": [
       "[[1.0, 0.0], [1.0, 0.0], [1.0, 0.0], [1.0, 0.0], [0.0, 1.0]]"
      ]
     },
     "execution_count": 4,
     "metadata": {},
     "output_type": "execute_result"
    }
   ],
   "source": [
    "train_labels[:5]"
   ]
  },
  {
   "cell_type": "markdown",
   "metadata": {},
   "source": [
    "### Creating and parameterising diagrams"
   ]
  },
  {
   "cell_type": "raw",
   "metadata": {
    "raw_mimetype": "text/restructuredtext"
   },
   "source": [
    "The first step is to convert sentences into :term:`string diagrams <string diagram>`."
   ]
  },
  {
   "cell_type": "code",
   "execution_count": 5,
   "metadata": {},
   "outputs": [
    {
     "name": "stderr",
     "output_type": "stream",
     "text": [
      "Tagging sentences.\n",
      "Parsing tagged sentences.\n",
      "Turning parse trees to diagrams.\n",
      "Tagging sentences.\n",
      "Parsing tagged sentences.\n",
      "Turning parse trees to diagrams.\n",
      "Tagging sentences.\n",
      "Parsing tagged sentences.\n",
      "Turning parse trees to diagrams.\n"
     ]
    }
   ],
   "source": [
    "from lambeq import BobcatParser\n",
    "\n",
    "parser = BobcatParser(verbose='text')\n",
    "\n",
    "train_diagrams = parser.sentences2diagrams(train_data)\n",
    "val_diagrams = parser.sentences2diagrams(val_data)\n",
    "test_diagrams = parser.sentences2diagrams(test_data)"
   ]
  },
  {
   "cell_type": "raw",
   "metadata": {
    "raw_mimetype": "text/restructuredtext"
   },
   "source": [
    "The produced diagrams need to be parameterised by a specific :term:`ansatz <ansatz (plural: ansätze)>`. For this experiment we will use a :py:class:`.SpiderAnsatz`."
   ]
  },
  {
   "cell_type": "code",
   "execution_count": 6,
   "metadata": {},
   "outputs": [
    {
     "data": {
      "image/png": "[encoded data removed]",
      "text/plain": [
       "<Figure size 640x480 with 1 Axes>"
      ]
     },
     "metadata": {},
     "output_type": "display_data"
    }
   ],
   "source": [
    "from discopy.tensor import Dim\n",
    "\n",
    "from lambeq import AtomicType, SpiderAnsatz\n",
    "\n",
    "ansatz = SpiderAnsatz({AtomicType.NOUN: Dim(2),\n",
    "                       AtomicType.SENTENCE: Dim(2)})\n",
    "\n",
    "train_circuits = [ansatz(diagram) for diagram in train_diagrams]\n",
    "val_circuits =  [ansatz(diagram) for diagram in val_diagrams]\n",
    "test_circuits = [ansatz(diagram) for diagram in test_diagrams]\n",
    "\n",
    "train_circuits[0].draw()"
   ]
  },
  {
   "cell_type": "markdown",
   "metadata": {},
   "source": [
    "## Training\n",
    "\n",
    "### Instantiate model"
   ]
  },
  {
   "cell_type": "raw",
   "metadata": {
    "raw_mimetype": "text/restructuredtext"
   },
   "source": [
    "We can now initialise the model by importing the :py:class:`.PytorchModel` class, and passing all diagrams to the class method :py:meth:`.PytorchModel.from_diagrams`."
   ]
  },
  {
   "cell_type": "code",
   "execution_count": 7,
   "metadata": {},
   "outputs": [],
   "source": [
    "from lambeq import PytorchModel\n",
    "\n",
    "all_circuits = train_circuits + val_circuits + test_circuits\n",
    "model = PytorchModel.from_diagrams(all_circuits)"
   ]
  },
  {
   "cell_type": "raw",
   "metadata": {
    "raw_mimetype": "text/restructuredtext"
   },
   "source": [
    ".. note::\n",
    "\n",
    "   The model can also be instantiated by using the :py:meth:`.PytorchModel.from_checkpoint` method, if an existing checkpoint is available."
   ]
  },
  {
   "cell_type": "markdown",
   "metadata": {},
   "source": [
    "### Define evaluation metric\n",
    "\n",
    "Optionally, we can provide a dictionary of callable evaluation metrics with the signature ``metric(y_hat, y)``."
   ]
  },
  {
   "cell_type": "code",
   "execution_count": 8,
   "metadata": {},
   "outputs": [],
   "source": [
    "sig = torch.sigmoid\n",
    "\n",
    "def accuracy(y_hat, y):\n",
    "    return torch.sum(torch.eq(torch.round(sig(y_hat)), y))/len(y)/2  # half due to double-counting\n",
    "\n",
    "eval_metrics = {\"acc\": accuracy}"
   ]
  },
  {
   "cell_type": "markdown",
   "metadata": {},
   "source": [
    "### Initialise trainer"
   ]
  },
  {
   "cell_type": "raw",
   "metadata": {
    "raw_mimetype": "text/restructuredtext"
   },
   "source": [
    "Next step is to initialise a :py:class:`.PytorchTrainer` object. Because this is a binary classification task, we will use binary cross-entropy as the loss. As an optimizer, we choose Adam with weight decay."
   ]
  },
  {
   "cell_type": "code",
   "execution_count": 9,
   "metadata": {},
   "outputs": [],
   "source": [
    "from lambeq import PytorchTrainer\n",
    "\n",
    "trainer = PytorchTrainer(\n",
    "        model=model,\n",
    "        loss_function=torch.nn.BCEWithLogitsLoss(),\n",
    "        optimizer=torch.optim.AdamW,\n",
    "        learning_rate=LEARNING_RATE,\n",
    "        epochs=EPOCHS,\n",
    "        evaluate_functions=eval_metrics,\n",
    "        evaluate_on_train=True,\n",
    "        verbose='text',\n",
    "        seed=SEED)"
   ]
  },
  {
   "cell_type": "markdown",
   "metadata": {},
   "source": [
    "### Create datasets"
   ]
  },
  {
   "cell_type": "raw",
   "metadata": {
    "raw_mimetype": "text/restructuredtext"
   },
   "source": [
    "To facilitate batching and data shuffling, lambeq provides a :py:class:`.Dataset` interface. Shuffling is enabled by default, and if not specified, the batch size is set to the length of the dataset. In our example we will use the :py:attr:`BATCH_SIZE` we have set above."
   ]
  },
  {
   "cell_type": "code",
   "execution_count": 10,
   "metadata": {},
   "outputs": [],
   "source": [
    "from lambeq import Dataset\n",
    "\n",
    "train_dataset = Dataset(\n",
    "            train_circuits,\n",
    "            train_labels,\n",
    "            batch_size=BATCH_SIZE)\n",
    "\n",
    "val_dataset = Dataset(val_circuits, val_labels, shuffle=False)"
   ]
  },
  {
   "cell_type": "markdown",
   "metadata": {},
   "source": [
    "### Train"
   ]
  },
  {
   "cell_type": "raw",
   "metadata": {
    "raw_mimetype": "text/restructuredtext"
   },
   "source": [
    "Now we can pass the datasets to the :py:meth:`~lambeq.Trainer.fit` method of the :term:`trainer` to start the training."
   ]
  },
  {
   "cell_type": "code",
   "execution_count": 11,
   "metadata": {},
   "outputs": [
    {
     "ename": "TypeError",
     "evalue": "Cannot interpret 'torch.float32' as a data type",
     "output_type": "error",
     "traceback": [
      "\u001b[0;31m---------------------------------------------------------------------------\u001b[0m",
      "\u001b[0;31mTypeError\u001b[0m                                 Traceback (most recent call last)",
      "Cell \u001b[0;32mIn[11], line 1\u001b[0m\n\u001b[0;32m----> 1\u001b[0m trainer\u001b[39m.\u001b[39;49mfit(train_dataset, val_dataset, evaluation_step\u001b[39m=\u001b[39;49m\u001b[39m1\u001b[39;49m, logging_step\u001b[39m=\u001b[39;49m\u001b[39m5\u001b[39;49m)\n",
      "File \u001b[0;32m~/.pyenv/versions/3.10.9/lib/python3.10/site-packages/lambeq/training/trainer.py:374\u001b[0m, in \u001b[0;36mTrainer.fit\u001b[0;34m(self, train_dataset, val_dataset, evaluation_step, logging_step)\u001b[0m\n\u001b[1;32m    372\u001b[0m step \u001b[39m+\u001b[39m\u001b[39m=\u001b[39m \u001b[39m1\u001b[39m\n\u001b[1;32m    373\u001b[0m x, y_label \u001b[39m=\u001b[39m batch\n\u001b[0;32m--> 374\u001b[0m y_hat, loss \u001b[39m=\u001b[39m \u001b[39mself\u001b[39;49m\u001b[39m.\u001b[39;49mtraining_step(batch)\n\u001b[1;32m    375\u001b[0m \u001b[39mif\u001b[39;00m (\u001b[39mself\u001b[39m\u001b[39m.\u001b[39mevaluate_on_train\n\u001b[1;32m    376\u001b[0m         \u001b[39mand\u001b[39;00m \u001b[39mself\u001b[39m\u001b[39m.\u001b[39mevaluate_functions \u001b[39mis\u001b[39;00m \u001b[39mnot\u001b[39;00m \u001b[39mNone\u001b[39;00m):\n\u001b[1;32m    377\u001b[0m     \u001b[39mfor\u001b[39;00m metr, func \u001b[39min\u001b[39;00m \u001b[39mself\u001b[39m\u001b[39m.\u001b[39mevaluate_functions\u001b[39m.\u001b[39mitems():\n",
      "File \u001b[0;32m~/.pyenv/versions/3.10.9/lib/python3.10/site-packages/lambeq/training/pytorch_trainer.py:201\u001b[0m, in \u001b[0;36mPytorchTrainer.training_step\u001b[0;34m(self, batch)\u001b[0m\n\u001b[1;32m    187\u001b[0m \u001b[39m\"\"\"Perform a training step.\u001b[39;00m\n\u001b[1;32m    188\u001b[0m \n\u001b[1;32m    189\u001b[0m \u001b[39mParameters\u001b[39;00m\n\u001b[0;32m   (...)\u001b[0m\n\u001b[1;32m    198\u001b[0m \n\u001b[1;32m    199\u001b[0m \u001b[39m\"\"\"\u001b[39;00m\n\u001b[1;32m    200\u001b[0m x, y \u001b[39m=\u001b[39m batch\n\u001b[0;32m--> 201\u001b[0m y_hat \u001b[39m=\u001b[39m \u001b[39mself\u001b[39;49m\u001b[39m.\u001b[39;49mmodel(x)\n\u001b[1;32m    202\u001b[0m loss \u001b[39m=\u001b[39m \u001b[39mself\u001b[39m\u001b[39m.\u001b[39mloss_function(y_hat, y\u001b[39m.\u001b[39mto(\u001b[39mself\u001b[39m\u001b[39m.\u001b[39mdevice))\n\u001b[1;32m    203\u001b[0m \u001b[39mself\u001b[39m\u001b[39m.\u001b[39mtrain_costs\u001b[39m.\u001b[39mappend(loss\u001b[39m.\u001b[39mitem())\n",
      "File \u001b[0;32m~/.pyenv/versions/3.10.9/lib/python3.10/site-packages/lambeq/training/model.py:57\u001b[0m, in \u001b[0;36mModel.__call__\u001b[0;34m(self, *args, **kwds)\u001b[0m\n\u001b[1;32m     56\u001b[0m \u001b[39mdef\u001b[39;00m \u001b[39m__call__\u001b[39m(\u001b[39mself\u001b[39m, \u001b[39m*\u001b[39margs: Any, \u001b[39m*\u001b[39m\u001b[39m*\u001b[39mkwds: Any) \u001b[39m-\u001b[39m\u001b[39m>\u001b[39m Any:\n\u001b[0;32m---> 57\u001b[0m     \u001b[39mreturn\u001b[39;00m \u001b[39mself\u001b[39;49m\u001b[39m.\u001b[39;49mforward(\u001b[39m*\u001b[39;49margs, \u001b[39m*\u001b[39;49m\u001b[39m*\u001b[39;49mkwds)\n",
      "File \u001b[0;32m~/.pyenv/versions/3.10.9/lib/python3.10/site-packages/lambeq/training/pytorch_model.py:155\u001b[0m, in \u001b[0;36mPytorchModel.forward\u001b[0;34m(self, x)\u001b[0m\n\u001b[1;32m    137\u001b[0m \u001b[39mdef\u001b[39;00m \u001b[39mforward\u001b[39m(\u001b[39mself\u001b[39m, x: \u001b[39mlist\u001b[39m[Diagram]) \u001b[39m-\u001b[39m\u001b[39m>\u001b[39m torch\u001b[39m.\u001b[39mTensor:\n\u001b[1;32m    138\u001b[0m     \u001b[39m\"\"\"Perform default forward pass by contracting tensors.\u001b[39;00m\n\u001b[1;32m    139\u001b[0m \n\u001b[1;32m    140\u001b[0m \u001b[39m    In case of a different datapoint (e.g. list of tuple) or\u001b[39;00m\n\u001b[0;32m   (...)\u001b[0m\n\u001b[1;32m    153\u001b[0m \n\u001b[1;32m    154\u001b[0m \u001b[39m    \"\"\"\u001b[39;00m\n\u001b[0;32m--> 155\u001b[0m     \u001b[39mreturn\u001b[39;00m \u001b[39mself\u001b[39;49m\u001b[39m.\u001b[39;49mget_diagram_output(x)\n",
      "File \u001b[0;32m~/.pyenv/versions/3.10.9/lib/python3.10/site-packages/lambeq/training/pytorch_model.py:134\u001b[0m, in \u001b[0;36mPytorchModel.get_diagram_output\u001b[0;34m(self, diagrams)\u001b[0m\n\u001b[1;32m    131\u001b[0m                 \u001b[39mraise\u001b[39;00m \u001b[39mKeyError\u001b[39;00m(\u001b[39mf\u001b[39m\u001b[39m'\u001b[39m\u001b[39mUnknown symbol \u001b[39m\u001b[39m{\u001b[39;00mb\u001b[39m.\u001b[39mdata\u001b[39m!r}\u001b[39;00m\u001b[39m.\u001b[39m\u001b[39m'\u001b[39m)\n\u001b[1;32m    133\u001b[0m \u001b[39mwith\u001b[39;00m backend(\u001b[39m'\u001b[39m\u001b[39mpytorch\u001b[39m\u001b[39m'\u001b[39m), tn\u001b[39m.\u001b[39mDefaultBackend(\u001b[39m'\u001b[39m\u001b[39mpytorch\u001b[39m\u001b[39m'\u001b[39m):\n\u001b[0;32m--> 134\u001b[0m     \u001b[39mreturn\u001b[39;00m torch\u001b[39m.\u001b[39mstack([tn\u001b[39m.\u001b[39mcontractors\u001b[39m.\u001b[39mauto(\n\u001b[1;32m    135\u001b[0m         \u001b[39m*\u001b[39md\u001b[39m.\u001b[39mto_tn(dtype\u001b[39m=\u001b[39mtorch\u001b[39m.\u001b[39mfloat))\u001b[39m.\u001b[39mtensor \u001b[39mfor\u001b[39;00m d \u001b[39min\u001b[39;00m diagrams])\n",
      "File \u001b[0;32m~/.pyenv/versions/3.10.9/lib/python3.10/site-packages/lambeq/training/pytorch_model.py:134\u001b[0m, in \u001b[0;36m<listcomp>\u001b[0;34m(.0)\u001b[0m\n\u001b[1;32m    131\u001b[0m                 \u001b[39mraise\u001b[39;00m \u001b[39mKeyError\u001b[39;00m(\u001b[39mf\u001b[39m\u001b[39m'\u001b[39m\u001b[39mUnknown symbol \u001b[39m\u001b[39m{\u001b[39;00mb\u001b[39m.\u001b[39mdata\u001b[39m!r}\u001b[39;00m\u001b[39m.\u001b[39m\u001b[39m'\u001b[39m)\n\u001b[1;32m    133\u001b[0m \u001b[39mwith\u001b[39;00m backend(\u001b[39m'\u001b[39m\u001b[39mpytorch\u001b[39m\u001b[39m'\u001b[39m), tn\u001b[39m.\u001b[39mDefaultBackend(\u001b[39m'\u001b[39m\u001b[39mpytorch\u001b[39m\u001b[39m'\u001b[39m):\n\u001b[0;32m--> 134\u001b[0m     \u001b[39mreturn\u001b[39;00m torch\u001b[39m.\u001b[39mstack([tn\u001b[39m.\u001b[39;49mcontractors\u001b[39m.\u001b[39;49mauto(\n\u001b[1;32m    135\u001b[0m         \u001b[39m*\u001b[39;49md\u001b[39m.\u001b[39;49mto_tn(dtype\u001b[39m=\u001b[39;49mtorch\u001b[39m.\u001b[39;49mfloat))\u001b[39m.\u001b[39mtensor \u001b[39mfor\u001b[39;00m d \u001b[39min\u001b[39;00m diagrams])\n",
      "File \u001b[0;32m~/.pyenv/versions/3.10.9/lib/python3.10/site-packages/tensornetwork/contractors/opt_einsum_paths/path_contractors.py:247\u001b[0m, in \u001b[0;36mauto\u001b[0;34m(nodes, output_edge_order, memory_limit, ignore_edge_order)\u001b[0m\n\u001b[1;32m    245\u001b[0m   \u001b[39mreturn\u001b[39;00m optimal(nodes, output_edge_order, memory_limit, ignore_edge_order)\n\u001b[1;32m    246\u001b[0m \u001b[39mif\u001b[39;00m n \u001b[39m<\u001b[39m \u001b[39m7\u001b[39m:\n\u001b[0;32m--> 247\u001b[0m   \u001b[39mreturn\u001b[39;00m branch(\n\u001b[1;32m    248\u001b[0m       nodes,\n\u001b[1;32m    249\u001b[0m       output_edge_order\u001b[39m=\u001b[39;49moutput_edge_order,\n\u001b[1;32m    250\u001b[0m       memory_limit\u001b[39m=\u001b[39;49mmemory_limit,\n\u001b[1;32m    251\u001b[0m       ignore_edge_order\u001b[39m=\u001b[39;49mignore_edge_order)\n\u001b[1;32m    252\u001b[0m \u001b[39mif\u001b[39;00m n \u001b[39m<\u001b[39m \u001b[39m9\u001b[39m:\n\u001b[1;32m    253\u001b[0m   \u001b[39mreturn\u001b[39;00m branch(\n\u001b[1;32m    254\u001b[0m       nodes,\n\u001b[1;32m    255\u001b[0m       output_edge_order\u001b[39m=\u001b[39moutput_edge_order,\n\u001b[1;32m    256\u001b[0m       memory_limit\u001b[39m=\u001b[39mmemory_limit,\n\u001b[1;32m    257\u001b[0m       nbranch\u001b[39m=\u001b[39m\u001b[39m2\u001b[39m,\n\u001b[1;32m    258\u001b[0m       ignore_edge_order\u001b[39m=\u001b[39mignore_edge_order)\n",
      "File \u001b[0;32m~/.pyenv/versions/3.10.9/lib/python3.10/site-packages/tensornetwork/contractors/opt_einsum_paths/path_contractors.py:162\u001b[0m, in \u001b[0;36mbranch\u001b[0;34m(nodes, output_edge_order, memory_limit, nbranch, ignore_edge_order)\u001b[0m\n\u001b[1;32m    134\u001b[0m \u001b[39m\"\"\"Branch contraction path via `opt_einsum`.\u001b[39;00m\n\u001b[1;32m    135\u001b[0m \n\u001b[1;32m    136\u001b[0m \u001b[39mThis method uses the DFS approach of `optimal` while sorting potential\u001b[39;00m\n\u001b[0;32m   (...)\u001b[0m\n\u001b[1;32m    158\u001b[0m \u001b[39m  The final node after full contraction.\u001b[39;00m\n\u001b[1;32m    159\u001b[0m \u001b[39m\"\"\"\u001b[39;00m\n\u001b[1;32m    160\u001b[0m alg \u001b[39m=\u001b[39m functools\u001b[39m.\u001b[39mpartial(\n\u001b[1;32m    161\u001b[0m     opt_einsum\u001b[39m.\u001b[39mpaths\u001b[39m.\u001b[39mbranch, memory_limit\u001b[39m=\u001b[39mmemory_limit, nbranch\u001b[39m=\u001b[39mnbranch)\n\u001b[0;32m--> 162\u001b[0m \u001b[39mreturn\u001b[39;00m base(nodes, alg, output_edge_order, ignore_edge_order)\n",
      "File \u001b[0;32m~/.pyenv/versions/3.10.9/lib/python3.10/site-packages/tensornetwork/contractors/opt_einsum_paths/path_contractors.py:88\u001b[0m, in \u001b[0;36mbase\u001b[0;34m(nodes, algorithm, output_edge_order, ignore_edge_order)\u001b[0m\n\u001b[1;32m     86\u001b[0m path, nodes \u001b[39m=\u001b[39m utils\u001b[39m.\u001b[39mget_path(nodes_set, algorithm)\n\u001b[1;32m     87\u001b[0m \u001b[39mfor\u001b[39;00m a, b \u001b[39min\u001b[39;00m path:\n\u001b[0;32m---> 88\u001b[0m   new_node \u001b[39m=\u001b[39m contract_between(nodes[a], nodes[b], allow_outer_product\u001b[39m=\u001b[39;49m\u001b[39mTrue\u001b[39;49;00m)\n\u001b[1;32m     89\u001b[0m   nodes\u001b[39m.\u001b[39mappend(new_node)\n\u001b[1;32m     90\u001b[0m   nodes \u001b[39m=\u001b[39m utils\u001b[39m.\u001b[39mmulti_remove(nodes, [a, b])\n",
      "File \u001b[0;32m~/.pyenv/versions/3.10.9/lib/python3.10/site-packages/tensornetwork/network_components.py:2085\u001b[0m, in \u001b[0;36mcontract_between\u001b[0;34m(node1, node2, name, allow_outer_product, output_edge_order, axis_names)\u001b[0m\n\u001b[1;32m   2083\u001b[0m axes1 \u001b[39m=\u001b[39m [axes1[i] \u001b[39mfor\u001b[39;00m i \u001b[39min\u001b[39;00m ind_sort]\n\u001b[1;32m   2084\u001b[0m axes2 \u001b[39m=\u001b[39m [axes2[i] \u001b[39mfor\u001b[39;00m i \u001b[39min\u001b[39;00m ind_sort]\n\u001b[0;32m-> 2085\u001b[0m new_tensor \u001b[39m=\u001b[39m backend\u001b[39m.\u001b[39mtensordot(node1\u001b[39m.\u001b[39;49mtensor, node2\u001b[39m.\u001b[39mtensor, [axes1, axes2])\n\u001b[1;32m   2086\u001b[0m new_node \u001b[39m=\u001b[39m Node(tensor\u001b[39m=\u001b[39mnew_tensor, name\u001b[39m=\u001b[39mname, backend\u001b[39m=\u001b[39mbackend)\n\u001b[1;32m   2087\u001b[0m \u001b[39m# node1 and node2 get new edges in _remove_edges\u001b[39;00m\n",
      "File \u001b[0;32m~/.pyenv/versions/3.10.9/lib/python3.10/site-packages/tensornetwork/network_components.py:832\u001b[0m, in \u001b[0;36mCopyNode.tensor\u001b[0;34m(self)\u001b[0m\n\u001b[1;32m    829\u001b[0m \u001b[39m@property\u001b[39m\n\u001b[1;32m    830\u001b[0m \u001b[39mdef\u001b[39;00m \u001b[39mtensor\u001b[39m(\u001b[39mself\u001b[39m) \u001b[39m-\u001b[39m\u001b[39m>\u001b[39m Tensor:\n\u001b[1;32m    831\u001b[0m   \u001b[39mif\u001b[39;00m \u001b[39mself\u001b[39m\u001b[39m.\u001b[39m_tensor \u001b[39mis\u001b[39;00m \u001b[39mNone\u001b[39;00m:\n\u001b[0;32m--> 832\u001b[0m     copy_tensor \u001b[39m=\u001b[39m \u001b[39mself\u001b[39;49m\u001b[39m.\u001b[39;49mmake_copy_tensor(\u001b[39mself\u001b[39;49m\u001b[39m.\u001b[39;49mrank, \u001b[39mself\u001b[39;49m\u001b[39m.\u001b[39;49mdimension,\n\u001b[1;32m    833\u001b[0m                                         \u001b[39mself\u001b[39;49m\u001b[39m.\u001b[39;49mcopy_node_dtype)\n\u001b[1;32m    834\u001b[0m     \u001b[39mself\u001b[39m\u001b[39m.\u001b[39m_tensor \u001b[39m=\u001b[39m \u001b[39mself\u001b[39m\u001b[39m.\u001b[39mbackend\u001b[39m.\u001b[39mconvert_to_tensor(copy_tensor)\n\u001b[1;32m    835\u001b[0m   \u001b[39mreturn\u001b[39;00m \u001b[39mself\u001b[39m\u001b[39m.\u001b[39m_tensor\n",
      "File \u001b[0;32m~/.pyenv/versions/3.10.9/lib/python3.10/site-packages/tensornetwork/network_components.py:845\u001b[0m, in \u001b[0;36mCopyNode.make_copy_tensor\u001b[0;34m(rank, dimension, dtype)\u001b[0m\n\u001b[1;32m    841\u001b[0m \u001b[39m@staticmethod\u001b[39m\n\u001b[1;32m    842\u001b[0m \u001b[39mdef\u001b[39;00m \u001b[39mmake_copy_tensor\u001b[39m(rank: \u001b[39mint\u001b[39m, dimension: \u001b[39mint\u001b[39m,\n\u001b[1;32m    843\u001b[0m                      dtype: Type[np\u001b[39m.\u001b[39mnumber]) \u001b[39m-\u001b[39m\u001b[39m>\u001b[39m Tensor:\n\u001b[1;32m    844\u001b[0m   shape \u001b[39m=\u001b[39m (dimension,) \u001b[39m*\u001b[39m rank\n\u001b[0;32m--> 845\u001b[0m   copy_tensor \u001b[39m=\u001b[39m np\u001b[39m.\u001b[39;49mzeros(shape, dtype\u001b[39m=\u001b[39;49mdtype)\n\u001b[1;32m    846\u001b[0m   i \u001b[39m=\u001b[39m np\u001b[39m.\u001b[39marange(dimension)\n\u001b[1;32m    847\u001b[0m   copy_tensor[(i,) \u001b[39m*\u001b[39m rank] \u001b[39m=\u001b[39m \u001b[39m1\u001b[39m\n",
      "\u001b[0;31mTypeError\u001b[0m: Cannot interpret 'torch.float32' as a data type"
     ]
    }
   ],
   "source": [
    "trainer.fit(train_dataset, val_dataset, evaluation_step=1, logging_step=5)"
   ]
  },
  {
   "cell_type": "raw",
   "metadata": {
    "raw_mimetype": "text/restructuredtext"
   },
   "source": [
    ".. note::\n",
    "\n",
    "   The :py:attr:`evaluation_step` controls the interval in which the model is evaluated on the validation dataset. Default is 1. If evaluation on the validation dataset is expensive, we recommend setting it to a higher value."
   ]
  },
  {
   "cell_type": "markdown",
   "metadata": {},
   "source": [
    "## Results\n",
    "\n",
    "Finally, we visualise the results and evaluate the model on the test data."
   ]
  },
  {
   "cell_type": "code",
   "execution_count": null,
   "metadata": {},
   "outputs": [
    {
     "name": "stdout",
     "output_type": "stream",
     "text": [
      "Test accuracy: 0.9833333492279053\n"
     ]
    },
    {
     "data": {
      "image/png": "[encoded data removed]",
      "text/plain": [
       "<Figure size 720x432 with 4 Axes>"
      ]
     },
     "metadata": {
      "needs_background": "light"
     },
     "output_type": "display_data"
    }
   ],
   "source": [
    "import matplotlib.pyplot as plt\n",
    "\n",
    "fig1, ((ax_tl, ax_tr), (ax_bl, ax_br)) = plt.subplots(2, 2, sharey='row', figsize=(10, 6))\n",
    "\n",
    "ax_tl.set_title('Training set')\n",
    "ax_tr.set_title('Development set')\n",
    "ax_bl.set_xlabel('Epochs')\n",
    "ax_br.set_xlabel('Epochs')\n",
    "ax_bl.set_ylabel('Accuracy')\n",
    "ax_tl.set_ylabel('Loss')\n",
    "\n",
    "colours = iter(plt.rcParams['axes.prop_cycle'].by_key()['color'])\n",
    "ax_tl.plot(trainer.train_epoch_costs, color=next(colours))\n",
    "ax_bl.plot(trainer.train_results['acc'], color=next(colours))\n",
    "ax_tr.plot(trainer.val_costs, color=next(colours))\n",
    "ax_br.plot(trainer.val_results['acc'], color=next(colours))\n",
    "\n",
    "# print test accuracy\n",
    "test_acc = accuracy(model(test_circuits), torch.tensor(test_labels))\n",
    "print('Test accuracy:', test_acc.item())"
   ]
  },
  {
   "cell_type": "markdown",
   "metadata": {},
   "source": [
    "## Adding custom layers to the model"
   ]
  },
  {
   "cell_type": "raw",
   "metadata": {
    "raw_mimetype": "text/restructuredtext"
   },
   "source": [
    "In the default setting, the forward pass of a :py:class:`.PytorchModel` performs a simple tensor contraction of the tensorised diagrams. However, if one likes to add additional custom layers, one can create a custom model that inherits from :py:class:`.PytorchModel` and overwrite the :py:meth:`.PytorchModel.forward` method."
   ]
  },
  {
   "cell_type": "code",
   "execution_count": null,
   "metadata": {},
   "outputs": [],
   "source": [
    "class MyCustomModel(PytorchModel):\n",
    "    def __init__(self):\n",
    "        super().__init__()\n",
    "        self.net = torch.nn.Linear(2, 2)\n",
    "\n",
    "    def forward(self, input):\n",
    "        \"\"\"define a custom forward pass here\"\"\"\n",
    "        preds = self.get_diagram_output(input)\n",
    "        preds = self.net(preds)\n",
    "        return preds"
   ]
  },
  {
   "cell_type": "markdown",
   "metadata": {},
   "source": [
    "The rest follows the same procedure as explained above, i.e. initialise a trainer, fit the model and visualise the results."
   ]
  },
  {
   "cell_type": "code",
   "execution_count": null,
   "metadata": {},
   "outputs": [
    {
     "name": "stderr",
     "output_type": "stream",
     "text": [
      "Epoch 1:   train/loss: 0.7148   valid/loss: 0.6871   train/acc: 0.4143   valid/acc: 0.5833\n",
      "Epoch 5:   train/loss: 0.4211   valid/loss: 0.5144   train/acc: 0.8714   valid/acc: 0.8167\n",
      "Epoch 10:  train/loss: 0.2201   valid/loss: 0.3550   train/acc: 0.9714   valid/acc: 0.9000\n",
      "Epoch 15:  train/loss: 0.1201   valid/loss: 0.3603   train/acc: 1.0000   valid/acc: 0.9667\n",
      "Epoch 20:  train/loss: 0.0426   valid/loss: 0.4961   train/acc: 1.0000   valid/acc: 0.9500\n",
      "Epoch 25:  train/loss: 0.0073   valid/loss: 0.6688   train/acc: 1.0000   valid/acc: 0.9000\n",
      "Epoch 30:  train/loss: 0.0018   valid/loss: 0.8141   train/acc: 1.0000   valid/acc: 0.9000\n",
      "\n",
      "Training completed!\n"
     ]
    }
   ],
   "source": [
    "custom_model = MyCustomModel.from_diagrams(all_circuits)\n",
    "custom_model_trainer = PytorchTrainer(\n",
    "        model=custom_model,\n",
    "        loss_function=torch.nn.BCEWithLogitsLoss(),\n",
    "        optimizer=torch.optim.AdamW,\n",
    "        learning_rate=LEARNING_RATE,\n",
    "        epochs=EPOCHS,\n",
    "        evaluate_functions=eval_metrics,\n",
    "        evaluate_on_train=True,\n",
    "        verbose='text',\n",
    "        seed=SEED)\n",
    "custom_model_trainer.fit(train_dataset, val_dataset, logging_step=5)"
   ]
  },
  {
   "cell_type": "code",
   "execution_count": null,
   "metadata": {},
   "outputs": [
    {
     "name": "stdout",
     "output_type": "stream",
     "text": [
      "Test accuracy: 0.9833333492279053\n"
     ]
    },
    {
     "data": {
      "image/png": "[encoded data removed]",
      "text/plain": [
       "<Figure size 720x432 with 4 Axes>"
      ]
     },
     "metadata": {
      "needs_background": "light"
     },
     "output_type": "display_data"
    }
   ],
   "source": [
    "import matplotlib.pyplot as plt\n",
    "\n",
    "fig1, ((ax_tl, ax_tr), (ax_bl, ax_br)) = plt.subplots(2, 2, sharey='row', figsize=(10, 6))\n",
    "\n",
    "ax_tl.set_title('Training set')\n",
    "ax_tr.set_title('Development set')\n",
    "ax_bl.set_xlabel('Epochs')\n",
    "ax_br.set_xlabel('Epochs')\n",
    "ax_bl.set_ylabel('Accuracy')\n",
    "ax_tl.set_ylabel('Loss')\n",
    "\n",
    "colours = iter(plt.rcParams['axes.prop_cycle'].by_key()['color'])\n",
    "ax_tl.plot(custom_model_trainer.train_epoch_costs, color=next(colours))\n",
    "ax_bl.plot(custom_model_trainer.train_results['acc'], color=next(colours))\n",
    "ax_tr.plot(custom_model_trainer.val_costs, color=next(colours))\n",
    "ax_br.plot(custom_model_trainer.val_results['acc'], color=next(colours))\n",
    "\n",
    "# print test accuracy\n",
    "test_acc = accuracy(model(test_circuits), torch.tensor(test_labels))\n",
    "print('Test accuracy:', test_acc.item())"
   ]
  },
  {
   "cell_type": "raw",
   "metadata": {
    "raw_mimetype": "text/restructuredtext"
   },
   "source": [
    ".. rubric:: See also:\n",
    "\n",
    "- `Training: Hybrid case <./trainer_hybrid.ipynb>`_\n",
    "- `Training: Quantum case <./trainer_quantum.ipynb>`_\n",
    "- `Advanced: Manual training <../manual_training.rst>`_"
   ]
  }
 ],
 "metadata": {
  "kernelspec": {
   "display_name": "Python 3",
   "language": "python",
   "name": "python3"
  },
  "language_info": {
   "codemirror_mode": {
    "name": "ipython",
    "version": 3
   },
   "file_extension": ".py",
   "mimetype": "text/x-python",
   "name": "python",
   "nbconvert_exporter": "python",
   "pygments_lexer": "ipython3",
   "version": "3.10.9"
  }
 },
 "nbformat": 4,
 "nbformat_minor": 5
}
